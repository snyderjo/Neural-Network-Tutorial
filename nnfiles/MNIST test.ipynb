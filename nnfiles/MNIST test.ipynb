{
 "cells": [
  {
   "cell_type": "code",
   "execution_count": 1,
   "metadata": {},
   "outputs": [],
   "source": [
    "from sklearn.preprocessing import StandardScaler, label_binarize\n",
    "from sklearn.model_selection import train_test_split\n",
    "from scipy.io import loadmat\n",
    "import numpy as np\n",
    "import neuralNet as nn\n",
    "import matplotlib.pyplot as plt\n",
    "import copy"
   ]
  },
  {
   "cell_type": "code",
   "execution_count": 2,
   "metadata": {},
   "outputs": [],
   "source": [
    "all_data = loadmat(\"../ex3data1.mat\")\n",
    "X_all = all_data['X']\n",
    "y_all = all_data['y']"
   ]
  },
  {
   "cell_type": "code",
   "execution_count": 3,
   "metadata": {},
   "outputs": [
    {
     "name": "stderr",
     "output_type": "stream",
     "text": [
      "/Users/johnsnyder/.virtualenvs/neuralNetTut/lib/python3.6/site-packages/sklearn/model_selection/_split.py:2069: FutureWarning: From version 0.21, test_size will always complement train_size unless both are specified.\n",
      "  FutureWarning)\n"
     ]
    }
   ],
   "source": [
    "X_train, X_test, y_train, y_test = train_test_split(X_all, y_all, train_size = .9)\n",
    "y_classes = np.unique(y_train)\n",
    "classDict = dict(zip(range(len(y_classes)),y_classes))"
   ]
  },
  {
   "cell_type": "code",
   "execution_count": 4,
   "metadata": {
    "scrolled": true
   },
   "outputs": [
    {
     "name": "stdout",
     "output_type": "stream",
     "text": [
      "(4500, 400) (500, 400)\n",
      "[ 1  2  3  4  5  6  7  8  9 10]\n"
     ]
    }
   ],
   "source": [
    "print(X_train.shape,X_test.shape)\n",
    "print(y_classes)"
   ]
  },
  {
   "cell_type": "code",
   "execution_count": 5,
   "metadata": {},
   "outputs": [],
   "source": [
    "scaler = StandardScaler()\n",
    "scaler.fit(X_train)\n",
    "\n",
    "X_train_scaled = scaler.transform(X_train).transpose()\n",
    "\n",
    "y_train_onehot = label_binarize(y_train,y_classes).transpose()"
   ]
  },
  {
   "cell_type": "code",
   "execution_count": 6,
   "metadata": {},
   "outputs": [
    {
     "name": "stdout",
     "output_type": "stream",
     "text": [
      "0.00020025964127934917\n",
      "0.00020025964127934917\n"
     ]
    }
   ],
   "source": [
    "print(scaler.mean_[25])\n",
    "print(np.mean(X_train,axis=0)[25])"
   ]
  },
  {
   "cell_type": "code",
   "execution_count": 7,
   "metadata": {},
   "outputs": [],
   "source": [
    "neuralNetMutExc = nn.fullyConnectClassHyper(X_train_scaled,y_train_onehot,classDict,[25,25,25], alpha =.05, p_keep = 0.5, regular = {\"lambd\":0.5, \"N\":2}, gradClip = 0.75, gradNorm = 0.5)"
   ]
  },
  {
   "cell_type": "code",
   "execution_count": 12,
   "metadata": {},
   "outputs": [
    {
     "data": {
      "text/plain": [
       "array([441.50960338,  29.90708396,  19.89236336,  24.02959741,\n",
       "        28.88813851,  30.32068484,  31.02918485,  32.24393747,\n",
       "        34.46944635,  39.25218301,  45.28068191,  47.17343591,\n",
       "        47.57154051,  47.73310053,  47.89040706,  48.30527955,\n",
       "        48.98520352,  50.41352509,  53.35404058,  58.69442646,\n",
       "        63.86049671,  65.2668487 ,  65.38261381,  65.42809111,\n",
       "        65.60273545,  65.5412723 ,  65.65195393,  65.6448966 ,\n",
       "        65.77886056,  65.75796571,  65.757423  ,  65.81376303,\n",
       "        65.69939086,  65.93353047,  66.05033994,  66.04901931,\n",
       "        66.08571203,  66.12080706,  66.27214886,  66.46146859,\n",
       "        66.51493535,  66.39362264,  66.27345371,  66.61827006,\n",
       "        66.47458641,  66.44443779,  66.69634103,  66.65469468,\n",
       "        67.01194897,  66.81294293,  67.2617401 ,  66.77217709,\n",
       "        67.32514876,  67.06917585,  67.38784938,  67.31699614,\n",
       "        67.55016982,  67.94252088,  67.22626899,  67.9965326 ,\n",
       "        68.30612989,  68.07088949,  67.9883671 ,  68.04718971,\n",
       "        67.81743658,  67.95317253,  68.44069406,  68.32483858,\n",
       "        68.50390641,  69.17540647,  68.7068814 ,  69.12416744,\n",
       "        68.51368911,  69.36729069,  68.57483712,  69.22991023,\n",
       "        69.11190668,  69.95562846,  70.18099911,  69.88354525,\n",
       "        69.77811057,  69.22189558,  69.48357484,  69.27242612,\n",
       "        69.37251655,  70.21530431,  70.90511706,  70.10571782,\n",
       "        70.07811633,  70.3524699 ,  69.88817487,  70.15520898,\n",
       "        71.08206761,  70.74146032,  70.86134675,  70.73210291,\n",
       "        72.17243395,  71.72269333,  72.44105087,  71.41925619])"
      ]
     },
     "execution_count": 12,
     "metadata": {},
     "output_type": "execute_result"
    }
   ],
   "source": [
    "neuralNetMutExc.fit(100)"
   ]
  },
  {
   "cell_type": "code",
   "execution_count": 13,
   "metadata": {},
   "outputs": [
    {
     "name": "stdout",
     "output_type": "stream",
     "text": [
      "441.509603380985\n"
     ]
    },
    {
     "data": {
      "image/png": "[encoded data removed]",
      "text/plain": [
       "<Figure size 432x288 with 1 Axes>"
      ]
     },
     "metadata": {
      "needs_background": "light"
     },
     "output_type": "display_data"
    }
   ],
   "source": [
    "print(neuralNetMutExc.loss_vec[0])\n",
    "plt.plot(neuralNetMutExc.loss_vec)\n",
    "plt.show()"
   ]
  },
  {
   "cell_type": "code",
   "execution_count": 14,
   "metadata": {},
   "outputs": [],
   "source": [
    "#update hyperparameters\n",
    "hyperDict = {\"alpha\":.01,\"regular\":{\"N\":2,\"lambd\":1}}\n",
    "neuralNetMutExc.updateHyperparam(**hyperDict)"
   ]
  },
  {
   "cell_type": "code",
   "execution_count": 15,
   "metadata": {},
   "outputs": [
    {
     "name": "stdout",
     "output_type": "stream",
     "text": [
      "the following are not valid hyperparameter names\n",
      " ['fakeParam']\n",
      "these are the hyperparameters and their values:/n\n",
      "gradClip :  0.75\n",
      "regular :  {'N': 2, 'lambd': 1}\n",
      "p_keep :  0.5\n",
      "alpha :  0.01\n",
      "gradNorm :  0.5\n"
     ]
    }
   ],
   "source": [
    "neuralNetMutExc.updateHyperparam(fakeParam = 2)"
   ]
  },
  {
   "cell_type": "code",
   "execution_count": 16,
   "metadata": {},
   "outputs": [
    {
     "data": {
      "text/plain": [
       "array([90.2342106 , 61.15320181, 50.07011387, 45.25923935, 43.05082363,\n",
       "       42.13789693, 41.49099346, 41.34014263, 41.15699494, 41.08787153,\n",
       "       41.08047233, 41.06158025, 41.04338029, 41.05755138, 41.13435345,\n",
       "       41.04572175, 41.02094525, 41.12049241, 41.16432218, 41.0577594 ,\n",
       "       41.0822426 , 41.02066541, 40.9832828 , 41.02944729, 41.06892059,\n",
       "       41.11512243, 41.04139907, 41.03819986, 41.05318236, 41.04976985,\n",
       "       41.09825842, 41.23171109, 41.11720594, 41.0510945 , 41.05188845,\n",
       "       41.0804529 , 41.01423244, 41.08603957, 41.03151554, 41.01152568,\n",
       "       41.01912317, 41.10173795, 41.00800905, 41.04850701, 41.04152323,\n",
       "       41.13100575, 40.99491352, 41.06979715, 41.09281859, 41.0367049 ])"
      ]
     },
     "execution_count": 16,
     "metadata": {},
     "output_type": "execute_result"
    }
   ],
   "source": [
    "neuralNetMutExc.fit(50)"
   ]
  },
  {
   "cell_type": "code",
   "execution_count": 17,
   "metadata": {},
   "outputs": [
    {
     "name": "stdout",
     "output_type": "stream",
     "text": [
      "441.509603380985\n"
     ]
    },
    {
     "data": {
      "image/png": "[encoded data removed]",
      "text/plain": [
       "<Figure size 432x288 with 1 Axes>"
      ]
     },
     "metadata": {
      "needs_background": "light"
     },
     "output_type": "display_data"
    }
   ],
   "source": [
    "print(neuralNetMutExc.loss_vec[0])\n",
    "plt.plot(neuralNetMutExc.loss_vec)\n",
    "plt.show()"
   ]
  },
  {
   "cell_type": "code",
   "execution_count": null,
   "metadata": {},
   "outputs": [],
   "source": []
  },
  {
   "cell_type": "code",
   "execution_count": 111,
   "metadata": {},
   "outputs": [
    {
     "ename": "IndexError",
     "evalue": "list index out of range",
     "output_type": "error",
     "traceback": [
      "\u001b[0;31m---------------------------------------------------------------------------\u001b[0m",
      "\u001b[0;31mIndexError\u001b[0m                                Traceback (most recent call last)",
      "\u001b[0;32m<ipython-input-111-04d92a4e8155>\u001b[0m in \u001b[0;36m<module>\u001b[0;34m\u001b[0m\n\u001b[0;32m----> 1\u001b[0;31m \u001b[0mprint\u001b[0m\u001b[0;34m(\u001b[0m\u001b[0mneuralNetMutExc\u001b[0m\u001b[0;34m.\u001b[0m\u001b[0mloss_vec\u001b[0m\u001b[0;34m[\u001b[0m\u001b[0;36m0\u001b[0m\u001b[0;34m]\u001b[0m\u001b[0;34m)\u001b[0m\u001b[0;34m\u001b[0m\u001b[0m\n\u001b[0m\u001b[1;32m      2\u001b[0m \u001b[0mplt\u001b[0m\u001b[0;34m.\u001b[0m\u001b[0mplot\u001b[0m\u001b[0;34m(\u001b[0m\u001b[0mneuralNetMutExc\u001b[0m\u001b[0;34m.\u001b[0m\u001b[0mloss_vec\u001b[0m\u001b[0;34m)\u001b[0m\u001b[0;34m\u001b[0m\u001b[0m\n\u001b[1;32m      3\u001b[0m \u001b[0mplt\u001b[0m\u001b[0;34m.\u001b[0m\u001b[0mshow\u001b[0m\u001b[0;34m(\u001b[0m\u001b[0;34m)\u001b[0m\u001b[0;34m\u001b[0m\u001b[0m\n",
      "\u001b[0;31mIndexError\u001b[0m: list index out of range"
     ]
    }
   ],
   "source": [
    "print(neuralNetMutExc.loss_vec[0])\n",
    "plt.plot(neuralNetMutExc.loss_vec)\n",
    "plt.show()"
   ]
  },
  {
   "cell_type": "code",
   "execution_count": 14,
   "metadata": {},
   "outputs": [],
   "source": [
    "neuralNetMutExc.updateAlpha(.05)\n",
    "lossVector = neuralNetMutExc.fit(500)"
   ]
  },
  {
   "cell_type": "code",
   "execution_count": 15,
   "metadata": {},
   "outputs": [],
   "source": [
    "front,back = 0,4"
   ]
  },
  {
   "cell_type": "code",
   "execution_count": 16,
   "metadata": {},
   "outputs": [
    {
     "name": "stdout",
     "output_type": "stream",
     "text": [
      "[[9]\n",
      " [6]\n",
      " [4]\n",
      " [8]]\n",
      "[[0 0 0 0]\n",
      " [0 0 0 0]\n",
      " [0 0 0 0]\n",
      " [0 0 1 0]\n",
      " [0 0 0 0]\n",
      " [0 1 0 0]\n",
      " [0 0 0 0]\n",
      " [0 0 0 1]\n",
      " [1 0 0 0]\n",
      " [0 0 0 0]]\n",
      "(400, 4)\n"
     ]
    }
   ],
   "source": [
    "print(y_train[front:back])\n",
    "print(y_train_onehot[:,front:back])\n",
    "print(X_train_scaled[:,front:back].shape)\n"
   ]
  },
  {
   "cell_type": "code",
   "execution_count": 17,
   "metadata": {},
   "outputs": [
    {
     "data": {
      "text/plain": [
       "(array([[0.1       , 0.09963187, 0.10060632, 0.1       ],\n",
       "        [0.1       , 0.09963187, 0.09993263, 0.1       ],\n",
       "        [0.1       , 0.09963187, 0.09993263, 0.1       ],\n",
       "        [0.1       , 0.09963187, 0.09993263, 0.1       ],\n",
       "        [0.1       , 0.09963187, 0.09993263, 0.1       ],\n",
       "        [0.1       , 0.09963187, 0.09993263, 0.1       ],\n",
       "        [0.1       , 0.09963187, 0.09993263, 0.1       ],\n",
       "        [0.1       , 0.09963187, 0.09993263, 0.1       ],\n",
       "        [0.1       , 0.09963187, 0.09993263, 0.1       ],\n",
       "        [0.1       , 0.1033132 , 0.09993263, 0.1       ]]),\n",
       " 0.23036756038214373)"
      ]
     },
     "execution_count": 17,
     "metadata": {},
     "output_type": "execute_result"
    }
   ],
   "source": [
    "neuralNetMutExc.predict(X_train_scaled[:,front:back],y_train_onehot[:,front:back])"
   ]
  },
  {
   "cell_type": "code",
   "execution_count": 18,
   "metadata": {},
   "outputs": [
    {
     "name": "stdout",
     "output_type": "stream",
     "text": [
      "incoming activations:\n",
      " [[0.         0.         0.00671886 0.        ]\n",
      " [0.         0.         0.         0.        ]\n",
      " [0.         0.         0.         0.        ]\n",
      " [0.         0.         0.         0.        ]\n",
      " [0.         0.         0.         0.        ]\n",
      " [0.         0.         0.         0.        ]\n",
      " [0.         0.         0.         0.        ]\n",
      " [0.         0.         0.         0.        ]\n",
      " [0.         0.         0.         0.        ]\n",
      " [0.         0.03628305 0.         0.        ]]\n",
      "Y_hat:\n",
      " [[0.1        0.09963187 0.10060632 0.1       ]\n",
      " [0.1        0.09963187 0.09993263 0.1       ]\n",
      " [0.1        0.09963187 0.09993263 0.1       ]\n",
      " [0.1        0.09963187 0.09993263 0.1       ]\n",
      " [0.1        0.09963187 0.09993263 0.1       ]\n",
      " [0.1        0.09963187 0.09993263 0.1       ]\n",
      " [0.1        0.09963187 0.09993263 0.1       ]\n",
      " [0.1        0.09963187 0.09993263 0.1       ]\n",
      " [0.1        0.09963187 0.09993263 0.1       ]\n",
      " [0.1        0.1033132  0.09993263 0.1       ]]\n",
      "dY_hat:\n",
      " [[ 0.          0.          0.          0.        ]\n",
      " [ 0.          0.          0.          0.        ]\n",
      " [ 0.          0.          0.          0.        ]\n",
      " [ 0.          0.         10.00674149  0.        ]\n",
      " [ 0.          0.          0.          0.        ]\n",
      " [ 0.         10.03694931  0.          0.        ]\n",
      " [ 0.          0.          0.          0.        ]\n",
      " [ 0.          0.          0.         10.        ]\n",
      " [10.          0.          0.          0.        ]\n",
      " [ 0.          0.          0.          0.        ]]\n",
      "softmax delta:\n",
      " [[-0.01       -0.00992651 -0.01005385 -0.01      ]\n",
      " [-0.01       -0.00992651 -0.00998653 -0.01      ]\n",
      " [-0.01       -0.00992651 -0.00998653 -0.01      ]\n",
      " [-0.01       -0.00992651  0.0899461  -0.01      ]\n",
      " [-0.01       -0.00992651 -0.00998653 -0.01      ]\n",
      " [-0.01        0.08970536 -0.00998653 -0.01      ]\n",
      " [-0.01       -0.00992651 -0.00998653 -0.01      ]\n",
      " [-0.01       -0.00992651 -0.00998653  0.09      ]\n",
      " [ 0.09       -0.00992651 -0.00998653 -0.01      ]\n",
      " [-0.01       -0.01029329 -0.00998653 -0.01      ]]\n",
      "incoming activation gradients:\n",
      " [[-0.         -0.         -0.         -0.        ]\n",
      " [-0.         -0.         -0.         -0.        ]\n",
      " [-0.         -0.         -0.         -0.        ]\n",
      " [-0.         -0.          0.90006737 -0.        ]\n",
      " [-0.         -0.         -0.         -0.        ]\n",
      " [-0.          0.90036813 -0.         -0.        ]\n",
      " [-0.         -0.         -0.         -0.        ]\n",
      " [-0.         -0.         -0.          0.9       ]\n",
      " [ 0.9        -0.         -0.         -0.        ]\n",
      " [-0.         -0.         -0.         -0.        ]]\n"
     ]
    }
   ],
   "source": [
    "print(\"incoming activations:\\n\",neuralNetMutExc.layers[-1].A_prev)\n",
    "print(\"Y_hat:\\n\",neuralNetMutExc.layers[-1].y_hat)\n",
    "print(\"dY_hat:\\n\",np.divide(y_train_onehot[:,front:back],neuralNetMutExc.layers[-1].y_hat))\n",
    "print(\"softmax delta:\\n\",neuralNetMutExc.layers[-1].softmax_delta(neuralNetMutExc.layers[-1].A_prev,y_train_onehot[:,front:back]))\n",
    "print(\"incoming activation gradients:\\n\",neuralNetMutExc.layers[-1].backprop(y_train_onehot[:,front:back]))"
   ]
  },
  {
   "cell_type": "code",
   "execution_count": null,
   "metadata": {},
   "outputs": [],
   "source": [
    "X_test_scaled = scaler.transform(X_test).transpose()\n"
   ]
  }
 ],
 "metadata": {
  "kernelspec": {
   "display_name": "Python 3",
   "language": "python",
   "name": "python3"
  },
  "language_info": {
   "codemirror_mode": {
    "name": "ipython",
    "version": 3
   },
   "file_extension": ".py",
   "mimetype": "text/x-python",
   "name": "python",
   "nbconvert_exporter": "python",
   "pygments_lexer": "ipython3",
   "version": "3.6.4"
  }
 },
 "nbformat": 4,
 "nbformat_minor": 2
}
