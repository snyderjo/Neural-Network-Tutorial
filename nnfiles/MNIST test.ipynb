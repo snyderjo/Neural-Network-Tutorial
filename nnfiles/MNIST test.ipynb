{
 "cells": [
  {
   "cell_type": "code",
   "execution_count": 1,
   "metadata": {},
   "outputs": [],
   "source": [
    "from sklearn.preprocessing import StandardScaler, label_binarize\n",
    "from sklearn.model_selection import train_test_split\n",
    "from scipy.io import loadmat\n",
    "import numpy as np\n",
    "import neuralNet as nn\n",
    "import matplotlib.pyplot as plt\n",
    "\n",
    "%matplotlib inline "
   ]
  },
  {
   "cell_type": "code",
   "execution_count": 2,
   "metadata": {},
   "outputs": [],
   "source": [
    "all_data = loadmat(\"../ex3data1.mat\")\n",
    "X_all = all_data['X']\n",
    "y_all = all_data['y']"
   ]
  },
  {
   "cell_type": "code",
   "execution_count": 3,
   "metadata": {},
   "outputs": [
    {
     "name": "stderr",
     "output_type": "stream",
     "text": [
      "/Users/johnsnyder/.virtualenvs/neuralNetTut/lib/python3.6/site-packages/sklearn/model_selection/_split.py:2069: FutureWarning: From version 0.21, test_size will always complement train_size unless both are specified.\n",
      "  FutureWarning)\n"
     ]
    }
   ],
   "source": [
    "X_train, X_test, y_train, y_test = train_test_split(X_all, y_all, train_size = .9)\n",
    "y_classes = np.unique(y_train)\n",
    "classDict = dict(zip(range(len(y_classes)),y_classes))"
   ]
  },
  {
   "cell_type": "code",
   "execution_count": 4,
   "metadata": {
    "scrolled": true
   },
   "outputs": [
    {
     "name": "stdout",
     "output_type": "stream",
     "text": [
      "(4500, 400) (500, 400)\n",
      "{0: 1, 1: 2, 2: 3, 3: 4, 4: 5, 5: 6, 6: 7, 7: 8, 8: 9, 9: 10}\n",
      "[ 1  2  3  4  5  6  7  8  9 10]\n"
     ]
    }
   ],
   "source": [
    "print(X_train.shape,X_test.shape)\n",
    "print(classDict)\n",
    "print(y_classes)"
   ]
  },
  {
   "cell_type": "code",
   "execution_count": 5,
   "metadata": {},
   "outputs": [],
   "source": [
    "scaler = StandardScaler()\n",
    "scaler.fit(X_train)\n",
    "\n",
    "X_train_scaled = scaler.transform(X_train).transpose()\n",
    "y_train_onehot = label_binarize(y_train,y_classes).transpose()\n",
    "\n",
    "X_test_scaled = scaler.transform(X_test).transpose()\n",
    "y_test_onehot = label_binarize(y_test,y_classes).transpose()"
   ]
  },
  {
   "cell_type": "code",
   "execution_count": 6,
   "metadata": {},
   "outputs": [
    {
     "name": "stdout",
     "output_type": "stream",
     "text": [
      "0.0002072550343439827\n",
      "0.0002072550343439827\n"
     ]
    }
   ],
   "source": [
    "print(scaler.mean_[25])\n",
    "print(np.mean(X_train,axis=0)[25])"
   ]
  },
  {
   "cell_type": "code",
   "execution_count": 7,
   "metadata": {},
   "outputs": [],
   "source": [
    "neuralNetMutExc = nn.fullyConnectClassHyper(X_train_scaled,y_train_onehot,classDict,[25,25,25], alpha =.05, p_keep = 1.0, regular = {\"lambd\":0.0, \"N\":2})"
   ]
  },
  {
   "cell_type": "code",
   "execution_count": 8,
   "metadata": {},
   "outputs": [
    {
     "data": {
      "text/plain": [
       "array([2.04377484, 1.15398625, 0.58068177, 0.37187559, 0.28898911,\n",
       "       0.2394572 , 0.2040415 , 0.17801254, 0.15969285, 0.1425094 ,\n",
       "       0.1273055 , 0.11541989, 0.10525189, 0.09658588, 0.09005937,\n",
       "       0.08067735, 0.07398214, 0.06905737, 0.06353525, 0.0577476 ,\n",
       "       0.0537619 , 0.05084251, 0.04606964, 0.04281503, 0.04016127,\n",
       "       0.03720118, 0.03438923, 0.03301326, 0.02974787, 0.0285358 ,\n",
       "       0.02688584, 0.02567626, 0.0232428 , 0.02226842, 0.02019221,\n",
       "       0.01869479, 0.01740163, 0.01672545, 0.01551314, 0.01471153,\n",
       "       0.01388656, 0.01324298, 0.01257375, 0.01190507, 0.01155016,\n",
       "       0.01095759, 0.01061881, 0.01001082, 0.00956918, 0.00911561,\n",
       "       0.00867649, 0.00832165, 0.00804544, 0.00774521, 0.00751295,\n",
       "       0.00724825, 0.00705696, 0.00686774, 0.00664747, 0.0065017 ,\n",
       "       0.00632312, 0.00617762, 0.00603754, 0.00588974, 0.00580344,\n",
       "       0.00564154, 0.00556479, 0.0054129 , 0.00532476, 0.00524024,\n",
       "       0.00512975, 0.00503338, 0.00494059, 0.00485264, 0.00476842,\n",
       "       0.00469206, 0.00462469, 0.00455382, 0.00449091, 0.00442848,\n",
       "       0.0043723 , 0.0043095 , 0.0042538 , 0.00420745, 0.00415326,\n",
       "       0.00411989, 0.00406236, 0.00401607, 0.003971  , 0.00392744,\n",
       "       0.00389152, 0.00384482, 0.00381559, 0.00377711, 0.003739  ,\n",
       "       0.00370711, 0.00367139, 0.00364093, 0.00360332, 0.00357253])"
      ]
     },
     "execution_count": 8,
     "metadata": {},
     "output_type": "execute_result"
    }
   ],
   "source": [
    "neuralNetMutExc.fit(100,X_test_scaled,y_test_onehot)"
   ]
  },
  {
   "cell_type": "code",
   "execution_count": 9,
   "metadata": {},
   "outputs": [
    {
     "name": "stdout",
     "output_type": "stream",
     "text": [
      "1.6130657954781755\n"
     ]
    },
    {
     "data": {
      "image/png": "[encoded data removed]",
      "text/plain": [
       "<Figure size 432x288 with 1 Axes>"
      ]
     },
     "metadata": {
      "needs_background": "light"
     },
     "output_type": "display_data"
    }
   ],
   "source": [
    "print(neuralNetMutExc.test_loss_vec[0])\n",
    "plt.plot(neuralNetMutExc.train_loss_vec)\n",
    "plt.plot(neuralNetMutExc.test_loss_vec)\n",
    "plt.show()"
   ]
  },
  {
   "cell_type": "code",
   "execution_count": 10,
   "metadata": {},
   "outputs": [],
   "source": [
    "#update hyperparameters\n",
    "hyperDict = {\"alpha\":.01,\"regular\":{\"lambd\":0.03, \"N\":2}}\n",
    "neuralNetMutExc.updateHyperparam(**hyperDict)"
   ]
  },
  {
   "cell_type": "code",
   "execution_count": 11,
   "metadata": {},
   "outputs": [
    {
     "name": "stdout",
     "output_type": "stream",
     "text": [
      "The following are not valid hyperparameter names\n",
      " ['fakeParam2', 'fakeParam']\n",
      "These are the hyperparameters and their values:\n",
      "p_keep :  1.0\n",
      "alpha :  0.01\n",
      "gradNorm :  inf\n",
      "gradClip :  inf\n",
      "regular :  {'lambd': 0.03, 'N': 2}\n"
     ]
    }
   ],
   "source": [
    "neuralNetMutExc.updateHyperparam(fakeParam = 2,fakeParam2 = 5)"
   ]
  },
  {
   "cell_type": "code",
   "execution_count": 13,
   "metadata": {},
   "outputs": [
    {
     "data": {
      "text/plain": [
       "array([0.24758668, 0.23528621, 0.2358118 , 0.235346  , 0.235715  ,\n",
       "       0.23527842, 0.23569817, 0.23512792, 0.23549665, 0.23522824,\n",
       "       0.23511693, 0.23529925, 0.23513106, 0.23502355, 0.23522449,\n",
       "       0.23493708, 0.2350757 , 0.23522244, 0.2348513 , 0.23475198,\n",
       "       0.23452941, 0.23492051, 0.23477636, 0.23435094, 0.23432959,\n",
       "       0.23452262, 0.2344853 , 0.23374979, 0.23398059, 0.23410532,\n",
       "       0.23401257, 0.2342279 , 0.23392063, 0.23355599, 0.23420679,\n",
       "       0.23351296, 0.23377391, 0.23373812, 0.2332544 , 0.23354802,\n",
       "       0.23346953, 0.23306734, 0.2331677 , 0.23312673, 0.23323771,\n",
       "       0.23286545, 0.23281235, 0.2329127 , 0.23281231, 0.23273085,\n",
       "       0.23273837, 0.23240509, 0.23253641, 0.23267768, 0.23211259,\n",
       "       0.23245029, 0.23208415, 0.23205732, 0.23194609, 0.2315511 ,\n",
       "       0.23247455, 0.23230658, 0.23202894, 0.23188014, 0.23164624,\n",
       "       0.23156079, 0.23131594, 0.23158611, 0.23105924, 0.23110645,\n",
       "       0.23096988, 0.23134954, 0.23122391, 0.23091268, 0.2309896 ,\n",
       "       0.2309289 , 0.23061826, 0.23049999, 0.23076073, 0.23071497,\n",
       "       0.23045263, 0.23061057, 0.23091595, 0.23074385, 0.23039946,\n",
       "       0.23046059, 0.2303114 , 0.23009318, 0.23001212, 0.2299552 ,\n",
       "       0.23010255, 0.2296974 , 0.22998174, 0.22955803, 0.22965519,\n",
       "       0.22964801, 0.22963557, 0.22985317, 0.22969145, 0.22946125,\n",
       "       0.22905271, 0.22938848, 0.22911529, 0.22923078, 0.229355  ,\n",
       "       0.22940718, 0.22923087, 0.22908968, 0.2290896 , 0.22902362,\n",
       "       0.22900267, 0.22908823, 0.22890481, 0.22886721, 0.2291301 ,\n",
       "       0.22864527, 0.22848296, 0.22844641, 0.22850218, 0.2286208 ,\n",
       "       0.22836788, 0.22840188, 0.22821354, 0.22821191, 0.22827676,\n",
       "       0.22828579, 0.22813381, 0.22820837, 0.22789527, 0.22797612,\n",
       "       0.22797989, 0.22798556, 0.22797895, 0.22790269, 0.22777543,\n",
       "       0.22765088, 0.22759596, 0.22778094, 0.22738681, 0.22752905,\n",
       "       0.22746362, 0.22738963, 0.22752363, 0.22731006, 0.22739602,\n",
       "       0.22708834, 0.22707219, 0.22712021, 0.22718879, 0.22709372,\n",
       "       0.22720763, 0.22684254, 0.2268997 , 0.22678868, 0.2269861 ,\n",
       "       0.22674189, 0.22691153, 0.2267459 , 0.22685577, 0.22671314,\n",
       "       0.22675422, 0.22689846, 0.22646241, 0.2263865 , 0.22656623,\n",
       "       0.22631395, 0.22626858, 0.22661734, 0.22659906, 0.22633395,\n",
       "       0.22635395, 0.2260591 , 0.22637792, 0.22643038, 0.22632554,\n",
       "       0.2260257 , 0.226393  , 0.22612419, 0.22630234, 0.22596174,\n",
       "       0.22574987, 0.22598808, 0.22602721, 0.22586819, 0.22612488,\n",
       "       0.22585773, 0.22580293, 0.22577894, 0.22563761, 0.22564779,\n",
       "       0.22576376, 0.22560029, 0.22536136, 0.22548373, 0.22550823,\n",
       "       0.22551685, 0.22534624, 0.22567493, 0.22529416, 0.22525029])"
      ]
     },
     "execution_count": 13,
     "metadata": {},
     "output_type": "execute_result"
    }
   ],
   "source": [
    "neuralNetMutExc.fit(200,X_test_scaled,y_test_onehot)"
   ]
  },
  {
   "cell_type": "code",
   "execution_count": 14,
   "metadata": {},
   "outputs": [
    {
     "name": "stdout",
     "output_type": "stream",
     "text": [
      "2.0437748423255324\n"
     ]
    },
    {
     "data": {
      "image/png": "[encoded data removed]",
      "text/plain": [
       "<Figure size 432x288 with 1 Axes>"
      ]
     },
     "metadata": {
      "needs_background": "light"
     },
     "output_type": "display_data"
    }
   ],
   "source": [
    "print(neuralNetMutExc.train_loss_vec[0])\n",
    "plt.plot(neuralNetMutExc.train_loss_vec)\n",
    "plt.plot(neuralNetMutExc.test_loss_vec)\n",
    "plt.show()"
   ]
  },
  {
   "cell_type": "code",
   "execution_count": 15,
   "metadata": {},
   "outputs": [
    {
     "name": "stdout",
     "output_type": "stream",
     "text": [
      "(10, 500)\n",
      "500\n",
      "500\n"
     ]
    }
   ],
   "source": [
    "YHat, loss = neuralNetMutExc.predict(X_test_scaled,y_test_onehot)\n",
    "print(YHat.shape)\n",
    "max_ind = np.argmax(YHat,axis = 0)\n",
    "max_prob = np.amax(YHat,axis = 0)\n",
    "max_prob_class = [neuralNetMutExc.outputL.classVec[x] for x in max_ind]\n",
    "\n",
    "print(len(max_prob_class))\n",
    "print(len(y_test))"
   ]
  },
  {
   "cell_type": "code",
   "execution_count": 16,
   "metadata": {},
   "outputs": [
    {
     "name": "stdout",
     "output_type": "stream",
     "text": [
      "[[1.87469839e-03 7.66835701e-05 9.20881461e-04 1.00293955e-03\n",
      "  1.98798531e-03 9.43043195e-01 1.93916377e-03 7.56342441e-04\n",
      "  7.41386572e-01 2.78939231e-04 9.33488028e-01 7.94447757e-03\n",
      "  1.82184278e-04 6.84857958e-04 2.78959809e-04]\n",
      " [1.45038336e-03 1.43138365e-03 4.26871112e-04 1.00293955e-03\n",
      "  1.15597487e-02 7.47715462e-03 9.90522438e-01 7.56342441e-04\n",
      "  8.89922822e-02 1.19710063e-03 1.03209740e-02 9.54624486e-01\n",
      "  1.81272229e-03 4.60218281e-03 2.57967986e-03]\n",
      " [1.02341103e-02 7.66835701e-05 4.26871112e-04 4.26442693e-03\n",
      "  3.83880894e-03 4.96011311e-03 3.71781345e-03 7.56342441e-04\n",
      "  6.59064178e-02 9.89096197e-01 9.12523357e-03 1.67075919e-03\n",
      "  5.44965844e-05 3.18264689e-04 2.78959809e-04]\n",
      " [7.49012338e-03 7.66835701e-05 9.84391656e-01 1.50410903e-02\n",
      "  1.98798531e-03 7.07671996e-03 1.10694438e-04 9.10675363e-01\n",
      "  5.80190699e-03 1.06409952e-04 8.86264275e-03 7.97933497e-04\n",
      "  1.08543593e-03 6.40877089e-03 2.78959809e-04]\n",
      " [9.50464256e-01 1.07592127e-03 3.83753754e-03 9.56611030e-01\n",
      "  2.66295520e-02 1.92156139e-03 1.10694438e-04 6.52554040e-03\n",
      "  5.55919203e-03 6.83731367e-03 2.49252239e-03 7.97933497e-04\n",
      "  5.56345655e-04 2.83299394e-03 5.34458017e-03]\n",
      " [3.32630038e-03 3.95649844e-03 3.20675242e-03 2.11443473e-03\n",
      "  5.40293948e-03 7.30711888e-03 1.66805980e-04 2.05736475e-03\n",
      "  5.70038005e-03 1.06409952e-04 6.23785488e-03 9.09994890e-03\n",
      "  9.91606688e-01 9.72185392e-01 4.99039999e-03]\n",
      " [1.45038336e-03 1.68774900e-04 1.02878194e-03 1.00293955e-03\n",
      "  6.17743423e-03 3.79956973e-03 1.91783290e-03 1.31693498e-03\n",
      "  2.24191760e-02 2.35141297e-04 7.16460648e-03 1.86195578e-03\n",
      "  5.44965844e-05 3.18264689e-04 6.84639182e-04]\n",
      " [1.13414936e-02 2.49232127e-04 4.26871112e-04 3.81502497e-03\n",
      "  7.05246889e-03 2.05714450e-02 3.63001635e-04 5.24010160e-03\n",
      "  5.31156884e-02 1.53178890e-03 1.73230934e-02 1.20358322e-02\n",
      "  1.56954280e-03 3.89365313e-03 5.69239291e-04]\n",
      " [5.86943921e-03 7.66835701e-05 4.90690615e-03 9.60450759e-03\n",
      "  3.47405601e-03 1.92156139e-03 1.10694438e-04 7.11593255e-02\n",
      "  5.55919203e-03 5.04289590e-04 2.49252239e-03 7.97933497e-04\n",
      "  5.44965844e-05 3.18264689e-04 2.78959809e-04]\n",
      " [6.49881250e-03 9.92811455e-01 4.26871112e-04 5.54066684e-03\n",
      "  9.31889021e-01 1.92156139e-03 1.04086081e-03 7.56342441e-04\n",
      "  5.55919203e-03 1.06409952e-04 2.49252239e-03 1.03687394e-02\n",
      "  3.02359115e-03 8.43735547e-03 9.84715622e-01]]\n",
      "[5, 10, 4, 5, 10, 1, 2, 4, 1, 3, 1, 2, 6, 6, 10, 7, 1, 5, 9, 2, 9, 8, 1, 1, 1, 8, 9, 2, 8, 9, 7, 7, 4, 10, 8, 5, 4, 4, 5, 10, 6, 7, 5, 10, 8, 9, 5, 2, 4, 5, 4, 8, 6, 1, 6, 7, 9, 5, 8, 1, 1, 5, 2, 4, 4, 3, 6, 10, 8, 7, 1, 3, 1, 10, 3, 6, 9, 6, 9, 6, 3, 7, 9, 9, 10, 9, 5, 1, 4, 4, 3, 3, 10, 9, 8, 3, 10, 10, 6, 10, 4, 6, 6, 3, 7, 1, 7, 9, 2, 3, 10, 9, 4, 9, 9, 4, 3, 1, 4, 2, 3, 5, 10, 4, 4, 2, 8, 1, 10, 5, 3, 5, 3, 10, 7, 6, 5, 5, 6, 7, 7, 8, 8, 10, 9, 10, 1, 5, 8, 10, 5, 9, 5, 5, 1, 6, 9, 9, 1, 1, 5, 8, 2, 9, 7, 1, 9, 3, 2, 8, 8, 10, 10, 5, 2, 5, 8, 10, 7, 4, 9, 3, 10, 3, 6, 9, 6, 7, 10, 2, 5, 2, 6, 10, 3, 4, 2, 4, 4, 9, 8, 9, 2, 9, 9, 4, 3, 9, 1, 3, 7, 6, 6, 10, 1, 8, 4, 5, 1, 5, 5, 5, 1, 4, 4, 10, 9, 10, 7, 3, 9, 9, 4, 2, 7, 3, 3, 7, 10, 3, 10, 6, 8, 4, 6, 7, 3, 9, 2, 2, 1, 10, 9, 4, 1, 6, 2, 4, 1, 5, 3, 2, 10, 9, 4, 8, 9, 8, 4, 6, 2, 1, 2, 4, 5, 1, 2, 8, 8, 9, 8, 3, 2, 7, 3, 3, 5, 8, 10, 3, 10, 4, 5, 2, 3, 4, 8, 10, 5, 10, 9, 8, 1, 10, 1, 5, 5, 4, 9, 6, 9, 2, 4, 2, 5, 3, 10, 3, 10, 10, 10, 6, 5, 6, 4, 9, 1, 2, 10, 10, 2, 3, 4, 8, 6, 1, 4, 1, 5, 1, 1, 8, 1, 4, 6, 2, 3, 1, 2, 2, 10, 8, 5, 3, 9, 1, 6, 5, 6, 6, 1, 8, 6, 3, 9, 1, 9, 9, 6, 5, 9, 1, 5, 8, 5, 10, 4, 2, 10, 5, 7, 7, 3, 2, 3, 2, 9, 3, 9, 6, 3, 8, 2, 5, 10, 7, 8, 10, 10, 1, 3, 7, 7, 1, 6, 10, 10, 4, 1, 1, 8, 8, 6, 5, 6, 2, 4, 6, 10, 10, 5, 8, 8, 5, 7, 6, 10, 3, 1, 6, 8, 8, 8, 4, 1, 9, 7, 9, 1, 6, 5, 5, 4, 1, 4, 6, 7, 10, 10, 8, 7, 7, 5, 4, 3, 3, 7, 6, 9, 6, 7, 1, 1, 1, 7, 10, 4, 8, 4, 5, 3, 1, 9, 3, 5, 1, 10, 8, 6, 3, 5, 2, 9, 10, 10, 2, 6, 8, 8, 7, 1, 9, 7, 7, 6, 6, 2, 1, 6, 8]\n",
      "[[ 5 10  4  5 10  1  2  4  1  3  1  2  6  6 10  7  1  5  9  2  9  8  1  1\n",
      "   1  8  9  2  8  9  7  7  4 10  8  5  4  4  5 10  6  7  5 10  8  4  5  2\n",
      "   4  5  7  8  6  1  6  7  7  5  8  1  1  5  2  4  4  3  6 10  8  7  1  3\n",
      "   1 10  3  5  9  6  9  6  3  7  9  4 10  9  5  1  4  4  3  3 10  9  8  3\n",
      "  10 10  8 10  4  6  6  3  2  1  7  9  2  3 10  9  4  9  9  4  3  1  4  2\n",
      "   3  5 10  4  4  5  8  1 10  5  3  5  3 10  7  6  5  5  6  7  7  8  8 10\n",
      "   9 10  1  5  8 10  5  9  5  2  1  6  9  7  1  1  5  8  2  9  7  1  9  3\n",
      "   2  8  8 10 10  5  2  5  5 10  3  4  9  3 10  3  6  4  6  7 10  2  5  2\n",
      "   6 10  3  4  2  2  4  9  8  9  3  9  9  4  3  9  1  3  7  2  6  6  1  8\n",
      "   4  5  1  5  5  5  1  4  4 10  9 10  7  3  9  8  4  5  7  3  3  7  2  3\n",
      "  10  6  8  4  6  7  3  9  2  2  1 10  9  4  1  6  2  4  1  5  3  2 10  9\n",
      "   4  8  9  8  9  2  2  1  2  4  5  1  2  8  8  9  8  3  8  7  3  3  6  8\n",
      "  10  2 10  4  5  7  3  4  8 10  5 10  9  8  1 10  1  5  5  4  9  4  9  2\n",
      "   4  2  5  3 10  3 10 10 10  6  5  6  4  9  1  3 10 10  2  3  4  8  6  1\n",
      "   4  1  5  1  1  8  1  4  6  7  3  1  2  2 10  8  5  3  9  1  6  5  6  6\n",
      "   1  8  6  3  9  1  9  9  6  5  9  1  5  8  5 10  4  2 10  5  7  7  3  2\n",
      "   3  2  9  3  9  6  3  8  2  5 10  7  8 10 10  1  3  7  7  1  6 10 10  4\n",
      "   1  1  8  8  6  5  6  2  4  6  9 10  5  8  8  5  7  6 10  3  1  6  8  8\n",
      "   8  4  1  9  7  9  1  6  5  5  4  1  4  6  7 10 10  8  7  7  5  4  5  3\n",
      "   7  6  9  6  7  8  3  1  7 10  4  8  4  5  5  1  9  3  5  3 10  8  6  3\n",
      "   5  2  9 10 10  2  6  8  8  7  1  9  7  7  6  6  2  1  6  8]]\n"
     ]
    },
    {
     "data": {
      "text/plain": [
       "{1: 55, 2: 41, 3: 50, 4: 50, 5: 58, 6: 47, 7: 40, 8: 51, 9: 50, 10: 58}"
      ]
     },
     "execution_count": 16,
     "metadata": {},
     "output_type": "execute_result"
    }
   ],
   "source": [
    "print(YHat[:,:15])\n",
    "print(max_prob_class)\n",
    "print(y_test.transpose())\n",
    "unique, counts = np.unique(y_test, return_counts = True)\n",
    "dict(zip(unique,counts))"
   ]
  },
  {
   "cell_type": "code",
   "execution_count": 17,
   "metadata": {},
   "outputs": [
    {
     "name": "stdout",
     "output_type": "stream",
     "text": [
      "accuracy: 0.93\n"
     ]
    }
   ],
   "source": [
    "print(\"accuracy:\",np.mean(max_prob_class==y_test.transpose()))"
   ]
  }
 ],
 "metadata": {
  "kernelspec": {
   "display_name": "Python 3",
   "language": "python",
   "name": "python3"
  },
  "language_info": {
   "codemirror_mode": {
    "name": "ipython",
    "version": 3
   },
   "file_extension": ".py",
   "mimetype": "text/x-python",
   "name": "python",
   "nbconvert_exporter": "python",
   "pygments_lexer": "ipython3",
   "version": "3.6.4"
  }
 },
 "nbformat": 4,
 "nbformat_minor": 2
}
