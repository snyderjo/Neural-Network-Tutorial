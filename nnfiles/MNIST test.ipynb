{
 "cells": [
  {
   "cell_type": "code",
   "execution_count": 1,
   "metadata": {},
   "outputs": [],
   "source": [
    "from sklearn.preprocessing import StandardScaler, label_binarize\n",
    "from sklearn.model_selection import train_test_split\n",
    "from scipy.io import loadmat\n",
    "import numpy as np\n",
    "import neuralNet as nn\n",
    "import matplotlib.pyplot as plt\n",
    "import copy"
   ]
  },
  {
   "cell_type": "code",
   "execution_count": 2,
   "metadata": {},
   "outputs": [],
   "source": [
    "all_data = loadmat(\"../ex3data1.mat\")\n",
    "X_all = all_data['X']\n",
    "y_all = all_data['y']"
   ]
  },
  {
   "cell_type": "code",
   "execution_count": 3,
   "metadata": {},
   "outputs": [
    {
     "name": "stderr",
     "output_type": "stream",
     "text": [
      "/Users/johnsnyder/.virtualenvs/neuralNetTut/lib/python3.6/site-packages/sklearn/model_selection/_split.py:2069: FutureWarning: From version 0.21, test_size will always complement train_size unless both are specified.\n",
      "  FutureWarning)\n"
     ]
    }
   ],
   "source": [
    "X_train, X_test, y_train, y_test = train_test_split(X_all, y_all, train_size = .9)\n",
    "y_classes = np.unique(y_train)\n",
    "classDict = dict(zip(range(len(y_classes)),y_classes))"
   ]
  },
  {
   "cell_type": "code",
   "execution_count": 4,
   "metadata": {
    "scrolled": true
   },
   "outputs": [
    {
     "name": "stdout",
     "output_type": "stream",
     "text": [
      "(4500, 400) (500, 400)\n",
      "{0: 1, 1: 2, 2: 3, 3: 4, 4: 5, 5: 6, 6: 7, 7: 8, 8: 9, 9: 10}\n",
      "[ 1  2  3  4  5  6  7  8  9 10]\n"
     ]
    }
   ],
   "source": [
    "print(X_train.shape,X_test.shape)\n",
    "print(classDict)\n",
    "print(y_classes)"
   ]
  },
  {
   "cell_type": "code",
   "execution_count": 5,
   "metadata": {},
   "outputs": [],
   "source": [
    "scaler = StandardScaler()\n",
    "scaler.fit(X_train)\n",
    "\n",
    "X_train_scaled = scaler.transform(X_train).transpose()\n",
    "y_train_onehot = label_binarize(y_train,y_classes).transpose()\n",
    "\n",
    "X_test_scaled = scaler.transform(X_test).transpose()\n",
    "y_test_onehot = label_binarize(y_test,y_classes).transpose()"
   ]
  },
  {
   "cell_type": "code",
   "execution_count": 6,
   "metadata": {},
   "outputs": [
    {
     "name": "stdout",
     "output_type": "stream",
     "text": [
      "0.000217274267731782\n",
      "0.000217274267731782\n"
     ]
    }
   ],
   "source": [
    "print(scaler.mean_[25])\n",
    "print(np.mean(X_train,axis=0)[25])"
   ]
  },
  {
   "cell_type": "code",
   "execution_count": 9,
   "metadata": {},
   "outputs": [],
   "source": [
    "neuralNetMutExc = nn.fullyConnectClassHyper(X_train_scaled,y_train_onehot,classDict,[25,25,25], alpha =.05, miniBatchSize = 128, p_keep = 1.0, regular = {\"lambd\":0.0, \"N\":2}, gradClip = 2.0, gradNorm = 1.0)"
   ]
  },
  {
   "cell_type": "code",
   "execution_count": 10,
   "metadata": {},
   "outputs": [
    {
     "data": {
      "text/plain": [
       "array([  2.37035442,   2.31813224,   2.3130138 ,   2.31701375,\n",
       "         2.32494441,   2.33583129,   2.35035854,   2.36861244,\n",
       "         2.39420636,   2.43028161,   2.48201068,   2.56050056,\n",
       "         2.66236425,   2.79621288,   3.02369272,   3.3634258 ,\n",
       "         4.21142347,   5.30785844,   6.68402991,   7.86211987,\n",
       "         9.39695538,   9.84531167,  10.54878033,  11.14502554,\n",
       "        12.31350302,  13.62627804,  14.78352119,  16.04177555,\n",
       "        17.55080563,  18.99283943,  20.13335022,  21.40847954,\n",
       "        22.66467167,  23.94471606,  25.29479075,  26.76439687,\n",
       "        27.71547081,  29.29643941,  30.77437647,  31.53579706,\n",
       "        33.09648377,  34.6974786 ,  35.63183708,  37.79374663,\n",
       "        39.14538568,  39.06167926,  41.39647999,  42.21538364,\n",
       "        43.89943414,  45.04088896,  46.21192463,  47.63422959,\n",
       "        49.38774857,  50.74106219,  51.72465643,  53.15445954,\n",
       "        53.55558778,  55.13521868,  56.88072508,  59.23069518,\n",
       "        60.65909164,  59.82038739,  61.98734416,  63.58974349,\n",
       "        65.66290257,  66.60191009,  67.59564612,  68.39765311,\n",
       "        70.82066265,  71.12729779,  72.46606653,  74.22804946,\n",
       "        75.04218889,  76.93292967,  78.02490775,  79.01157366,\n",
       "        80.61862767,  83.401721  ,  82.401405  ,  85.49445788,\n",
       "        86.1712378 ,  86.54375971,  88.75839354,  90.96545076,\n",
       "        91.05083858,  92.40253664,  95.08705689,  95.15182409,\n",
       "        96.81477659,  98.91074682,  99.45981188, 101.33471976,\n",
       "       102.45980282, 105.21613606, 103.09181003, 106.98517259,\n",
       "       107.36891501, 109.59282053, 109.36324588, 112.58437044])"
      ]
     },
     "execution_count": 10,
     "metadata": {},
     "output_type": "execute_result"
    }
   ],
   "source": [
    "neuralNetMutExc.fit(100,X_test_scaled,y_test_onehot)"
   ]
  },
  {
   "cell_type": "code",
   "execution_count": 11,
   "metadata": {},
   "outputs": [
    {
     "name": "stdout",
     "output_type": "stream",
     "text": [
      "2.312961132365328\n"
     ]
    },
    {
     "data": {
      "image/png": "[encoded data removed]",
      "text/plain": [
       "<Figure size 432x288 with 1 Axes>"
      ]
     },
     "metadata": {
      "needs_background": "light"
     },
     "output_type": "display_data"
    }
   ],
   "source": [
    "print(neuralNetMutExc.test_loss_vec[0])\n",
    "plt.plot(neuralNetMutExc.train_loss_vec)\n",
    "plt.plot(neuralNetMutExc.test_loss_vec)\n",
    "plt.show()"
   ]
  },
  {
   "cell_type": "code",
   "execution_count": 12,
   "metadata": {},
   "outputs": [],
   "source": [
    "#update hyperparameters\n",
    "hyperDict = {\"alpha\":.001,\"regular\":{\"N\":2,\"lambd\":1}}\n",
    "neuralNetMutExc.updateHyperparam(**hyperDict)"
   ]
  },
  {
   "cell_type": "code",
   "execution_count": 11,
   "metadata": {},
   "outputs": [
    {
     "name": "stdout",
     "output_type": "stream",
     "text": [
      "The following are not valid hyperparameter names\n",
      " ['fakeParam', 'fakeParam2']\n",
      "These are the hyperparameters and their values:\n",
      "gradNorm :  1.0\n",
      "regular :  {'N': 2, 'lambd': 1}\n",
      "p_keep :  1.0\n",
      "gradClip :  2.0\n",
      "alpha :  0.001\n"
     ]
    }
   ],
   "source": [
    "neuralNetMutExc.updateHyperparam(fakeParam = 2,fakeParam2 = 5)"
   ]
  },
  {
   "cell_type": "code",
   "execution_count": 13,
   "metadata": {},
   "outputs": [
    {
     "data": {
      "text/plain": [
       "array([113.65987457, 103.11233776,  94.43724739,  87.33292437,\n",
       "        82.19413558,  77.91261054,  74.20048799,  70.98570085,\n",
       "        68.32676532,  65.78450471,  63.5103308 ,  61.36194566,\n",
       "        59.29499181,  57.3988037 ,  55.55883282,  53.82070572,\n",
       "        52.26061974,  50.72114075,  49.28397448,  47.89805434,\n",
       "        46.61112394,  45.41573135,  44.27266717,  43.19978062,\n",
       "        42.15831204,  41.18705151,  40.27503629,  39.37458234,\n",
       "        38.559747  ,  37.7525967 ,  37.01208255,  36.29535791,\n",
       "        35.61625118,  34.95813087,  34.35966665,  33.75892991,\n",
       "        33.22229343,  32.67563091,  32.17726105,  31.69550219,\n",
       "        31.25271085,  30.78631936,  30.3780601 ,  29.97128577,\n",
       "        29.58779188,  29.22284878,  28.88500808,  28.55399624,\n",
       "        28.24710029,  27.9397152 ])"
      ]
     },
     "execution_count": 13,
     "metadata": {},
     "output_type": "execute_result"
    }
   ],
   "source": [
    "neuralNetMutExc.fit(50,X_test_scaled,y_test_onehot)"
   ]
  },
  {
   "cell_type": "code",
   "execution_count": 14,
   "metadata": {},
   "outputs": [
    {
     "name": "stdout",
     "output_type": "stream",
     "text": [
      "2.3703544198009787\n"
     ]
    },
    {
     "data": {
      "image/png": "[encoded data removed]",
      "text/plain": [
       "<Figure size 432x288 with 1 Axes>"
      ]
     },
     "metadata": {
      "needs_background": "light"
     },
     "output_type": "display_data"
    }
   ],
   "source": [
    "print(neuralNetMutExc.train_loss_vec[0])\n",
    "plt.plot(neuralNetMutExc.train_loss_vec)\n",
    "plt.plot(neuralNetMutExc.test_loss_vec)\n",
    "plt.show()"
   ]
  },
  {
   "cell_type": "code",
   "execution_count": 15,
   "metadata": {},
   "outputs": [
    {
     "name": "stdout",
     "output_type": "stream",
     "text": [
      "(10, 500)\n",
      "500\n",
      "500\n"
     ]
    }
   ],
   "source": [
    "YHat, loss = neuralNetMutExc.predict(X_test_scaled,y_test_onehot)\n",
    "print(YHat.shape)\n",
    "max_ind = np.argmax(YHat,axis = 0)\n",
    "max_prob = np.amax(YHat,axis = 0)\n",
    "max_prob_class = [neuralNetMutExc.outputL.classVec[x] for x in max_ind]\n",
    "\n",
    "print(len(max_prob_class))\n",
    "print(len(y_test))"
   ]
  },
  {
   "cell_type": "code",
   "execution_count": 16,
   "metadata": {},
   "outputs": [
    {
     "name": "stdout",
     "output_type": "stream",
     "text": [
      "[[8.44589248e-002 8.44583090e-002 8.45171488e-002 8.44845722e-002\n",
      "  8.45007771e-002 8.44794564e-002 8.44659637e-002 8.44790955e-002\n",
      "  8.44842222e-002 8.45530085e-002 8.44915361e-002 8.44926320e-002\n",
      "  8.44824719e-002 8.45454308e-002 8.45247438e-002]\n",
      " [1.23462321e-001 1.23460847e-001 1.23601759e-001 1.23523726e-001\n",
      "  1.23562537e-001 1.23511476e-001 1.23479171e-001 1.23510611e-001\n",
      "  1.23522888e-001 1.23687705e-001 1.23540403e-001 1.23543028e-001\n",
      "  1.23518696e-001 1.23669539e-001 1.23619957e-001]\n",
      " [9.59784350e-117 9.44368590e-117 4.43892183e-116 1.88404676e-116\n",
      "  2.88545241e-116 1.64686304e-116 1.15493229e-116 1.63130624e-116\n",
      "  1.86678419e-116 1.14061453e-115 2.26278046e-116 2.32895553e-116\n",
      "  1.78279453e-116 9.34358615e-116 5.42088236e-116]\n",
      " [1.24046507e-001 1.24048501e-001 1.23857967e-001 1.23963451e-001\n",
      "  1.23910978e-001 1.23980017e-001 1.24023711e-001 1.23981186e-001\n",
      "  1.23964585e-001 1.23741866e-001 1.23940901e-001 1.23937352e-001\n",
      "  1.23970252e-001 1.23766399e-001 1.23833376e-001]\n",
      " [1.38639839e-001 1.38640487e-001 1.38578573e-001 1.38612870e-001\n",
      "  1.38595815e-001 1.38618252e-001 1.38632441e-001 1.38618632e-001\n",
      "  1.38613238e-001 1.38540767e-001 1.38605542e-001 1.38604389e-001\n",
      "  1.38615080e-001 1.38548761e-001 1.38570571e-001]\n",
      " [1.15831105e-001 1.15831349e-001 1.15807966e-001 1.15820927e-001\n",
      "  1.15814484e-001 1.15822959e-001 1.15828314e-001 1.15823103e-001\n",
      "  1.15821066e-001 1.15793654e-001 1.15818160e-001 1.15817724e-001\n",
      "  1.15821762e-001 1.15796682e-001 1.15804938e-001]\n",
      " [9.38942111e-002 9.38941850e-002 9.38966385e-002 9.38952912e-002\n",
      "  9.38959648e-002 9.38950771e-002 9.38945092e-002 9.38950620e-002\n",
      "  9.38952765e-002 9.38980898e-002 9.38955815e-002 9.38956271e-002\n",
      "  9.38952033e-002 9.38977859e-002 9.38969487e-002]\n",
      " [1.01437158e-001 1.01435770e-001 1.01568424e-001 1.01494960e-001\n",
      "  1.01531498e-001 1.01483428e-001 1.01453019e-001 1.01482614e-001\n",
      "  1.01494171e-001 1.01649352e-001 1.01510660e-001 1.01513131e-001\n",
      "  1.01490225e-001 1.01632246e-001 1.01585559e-001]\n",
      " [1.24088492e-001 1.24090068e-001 1.23939486e-001 1.24022861e-001\n",
      "  1.23981388e-001 1.24035953e-001 1.24070480e-001 1.24036876e-001\n",
      "  1.24023756e-001 1.23847693e-001 1.24005039e-001 1.24002234e-001\n",
      "  1.24028236e-001 1.23867091e-001 1.23920045e-001]\n",
      " [9.41414415e-002 9.41404836e-002 9.42320380e-002 9.41813414e-002\n",
      "  9.42065576e-002 9.41733818e-002 9.41523909e-002 9.41728203e-002\n",
      "  9.41807968e-002 9.42878656e-002 9.41921773e-002 9.41938825e-002\n",
      "  9.41780735e-002 9.42760664e-002 9.42438602e-002]]\n",
      "[5, 5, 5, 5, 5, 5, 5, 5, 5, 5, 5, 5, 5, 5, 5, 5, 5, 5, 5, 5, 5, 5, 5, 5, 5, 5, 5, 5, 5, 5, 5, 5, 5, 5, 5, 5, 5, 5, 5, 5, 5, 5, 5, 5, 5, 5, 5, 5, 5, 5, 5, 5, 5, 5, 5, 5, 5, 5, 5, 5, 5, 5, 5, 5, 5, 5, 5, 5, 5, 5, 5, 5, 5, 5, 5, 5, 5, 5, 5, 5, 5, 5, 5, 5, 5, 5, 5, 5, 5, 5, 5, 5, 5, 5, 5, 5, 5, 5, 5, 5, 5, 5, 5, 5, 5, 5, 5, 5, 5, 5, 5, 5, 5, 5, 5, 5, 5, 5, 5, 5, 5, 5, 5, 5, 5, 5, 5, 5, 5, 5, 5, 5, 5, 5, 5, 5, 5, 5, 5, 5, 5, 5, 5, 5, 5, 5, 5, 5, 5, 5, 5, 5, 5, 5, 5, 5, 5, 5, 5, 5, 5, 5, 5, 5, 5, 5, 5, 5, 5, 5, 5, 5, 5, 5, 5, 5, 5, 5, 5, 5, 5, 5, 5, 5, 5, 5, 5, 5, 5, 5, 5, 5, 5, 5, 5, 5, 5, 5, 5, 5, 5, 5, 5, 5, 5, 5, 5, 5, 5, 5, 5, 5, 5, 5, 5, 5, 5, 5, 5, 5, 5, 5, 5, 5, 5, 5, 5, 5, 5, 5, 5, 5, 5, 5, 5, 5, 5, 5, 5, 5, 5, 5, 5, 5, 5, 5, 5, 5, 5, 5, 5, 5, 5, 5, 5, 5, 5, 5, 5, 5, 5, 5, 5, 5, 5, 5, 5, 5, 5, 5, 5, 5, 5, 5, 5, 5, 5, 5, 5, 5, 5, 5, 5, 5, 5, 5, 5, 5, 5, 5, 5, 5, 5, 5, 5, 5, 5, 5, 5, 5, 5, 5, 5, 5, 5, 5, 5, 5, 5, 5, 5, 5, 5, 5, 5, 5, 5, 5, 5, 5, 5, 5, 5, 5, 5, 5, 5, 5, 5, 5, 5, 5, 5, 5, 5, 5, 5, 5, 5, 5, 5, 5, 5, 5, 5, 5, 5, 5, 5, 5, 5, 5, 5, 5, 5, 5, 5, 5, 5, 5, 5, 5, 5, 5, 5, 5, 5, 5, 5, 5, 5, 5, 5, 5, 5, 5, 5, 5, 5, 5, 5, 5, 5, 5, 5, 5, 5, 5, 5, 5, 5, 5, 5, 5, 5, 5, 5, 5, 5, 5, 5, 5, 5, 5, 5, 5, 5, 5, 5, 5, 5, 5, 5, 5, 5, 5, 5, 5, 5, 5, 5, 5, 5, 5, 5, 5, 5, 5, 5, 5, 5, 5, 5, 5, 5, 5, 5, 5, 5, 5, 5, 5, 5, 5, 5, 5, 5, 5, 5, 5, 5, 5, 5, 5, 5, 5, 5, 5, 5, 5, 5, 5, 5, 5, 5, 5, 5, 5, 5, 5, 5, 5, 5, 5, 5, 5, 5, 5, 5, 5, 5, 5, 5, 5, 5, 5, 5, 5, 5, 5, 5, 5, 5, 5, 5, 5, 5, 5, 5, 5]\n",
      "[[ 5  4  5  5  5  8  5  2  7  3  5  2  5  3  8  6  4  2  2  4  8  6  1  2\n",
      "   5  4  1  1  5  9  8  7  7 10  1  8  3  7  1 10  3  1  5  9  6  1 10  5\n",
      "   6  8  9  9  8  3  3  1  7  6  5  3 10  3  4  4  2  1  1  5  2  2  8  8\n",
      "   7  1 10  2  6  4  5  1  9  3  8  9  1  5  8  8  1  8  9  9  3  7  5  3\n",
      "   8  1  7  9  1 10  1  2  3  1  9  5  7  4 10  9 10  1  4  5  2 10  7  3\n",
      "   4  9  2  7  1 10  9  1  9 10  2  1  9  4  8  4  1  6 10 10  7  2  3  2\n",
      "   3  3 10  5  2  3  1  6  5  2  8 10  2  2  8  8 10  8  3  8  6  9  2  2\n",
      "   5  3  6  1  9  2  3  5  7  6 10  6 10  8  7  1  1 10  2  3  6  5  8  7\n",
      "   7  5  6  5  7  1  4  5 10  1  9  6 10  4  7  1  3  7  7  4  3  7  7  3\n",
      "   8  9 10  8  7  4 10  6 10  3  3  4  8  3 10  3 10  3  3  7  9  4  7  9\n",
      "   3  7 10  8 10  1  9  7  7  4  6  2  5  4  1 10  1 10  1  1  4  7 10  6\n",
      "   4  2  3  5  8  8  1  9 10  7  7  9  4  3  3  7  8  9  6 10  3  4  9  8\n",
      "   9  7  4  1  7  1  5  3  6  5  6  1 10  1  6  6  5  2  2  4 10  7  1  1\n",
      "   7  3  5  3  9  3  2  7 10  1  3  1  8 10  2  5 10  7  3  9 10  7  4  4\n",
      "   6  8  2  1  8  2  4  8  3  5  7  8  8 10  2  8  2  2  6  3  1  5  8  3\n",
      "   2  6  4  2  7  6  2  3  8  4  3  9 10  6  9  7  3  3  5  5  7  8  6  2\n",
      "   7  1  7  9  7  4  2  3  4  1  3  5  5  4  7  3  4  4  8  3  5  4  3  5\n",
      "   9 10  6  7 10  1  1  7  8  3  9  3  1  4  5 10  3  8  6  9  4  5  8  6\n",
      "  10  5  3  8  9  3  4  5  1  6  6  4  3 10 10  4 10  1  1  8  8  8  1  1\n",
      "   3 10  1  9  8  7  7  4  4  8  7 10  4  9  1  7  8  8  3 10  6 10  2  5\n",
      "   7  8  5 10  3  9  4  3  7  1  8  1  2  1  9  4  5  7  4  4]]\n"
     ]
    },
    {
     "data": {
      "text/plain": [
       "{1: 61, 2: 41, 3: 63, 4: 49, 5: 48, 6: 35, 7: 56, 8: 54, 9: 40, 10: 53}"
      ]
     },
     "execution_count": 16,
     "metadata": {},
     "output_type": "execute_result"
    }
   ],
   "source": [
    "print(YHat[:,:15])\n",
    "print(max_prob_class)\n",
    "print(y_test.transpose())\n",
    "unique, counts = np.unique(y_test, return_counts = True)\n",
    "dict(zip(unique,counts))"
   ]
  },
  {
   "cell_type": "code",
   "execution_count": null,
   "metadata": {},
   "outputs": [],
   "source": []
  },
  {
   "cell_type": "code",
   "execution_count": 18,
   "metadata": {},
   "outputs": [
    {
     "data": {
      "text/plain": [
       "array([ 0.00000000e+00,  0.00000000e+00, -1.49087765e-02,  1.84438416e-02,\n",
       "        1.34911623e-02, -1.69129774e-02, -1.93402152e-02, -1.60809251e-02,\n",
       "       -5.29353280e-03, -1.25856353e-02, -1.31216343e-02,  2.68439964e-02,\n",
       "        2.87328638e-02,  4.40911974e-02,  4.13893538e-02,  3.62844517e-02,\n",
       "        2.23725310e-02,  9.81834848e-03, -1.80433506e-02,  0.00000000e+00,\n",
       "       -1.49087765e-02,  1.04054478e-02,  1.29588909e-02,  4.55492499e-03,\n",
       "        1.02139917e-02, -1.60928380e-02, -3.21558410e-02, -3.90451554e-02,\n",
       "       -3.37257176e-02, -1.81611897e-02,  7.75689876e-03,  4.31891470e-02,\n",
       "        2.12543850e-02,  1.93052676e-02,  8.57517813e-03,  1.32403333e-02,\n",
       "        1.47529975e-02,  4.30164181e-02,  2.42647773e-02,  2.00646038e-02,\n",
       "        1.41410525e-02, -1.20066022e-02,  2.11088340e-02, -1.82821736e-02,\n",
       "       -4.37689270e-02, -6.95300796e-02, -8.97595944e-02, -8.90567823e-02,\n",
       "       -7.62163874e-02, -4.76562993e-02, -2.84114398e-02, -3.60148977e-02,\n",
       "       -6.99232234e-02, -1.13672847e-01, -1.27044173e-01, -1.00527956e-01,\n",
       "       -6.17446039e-02, -3.22300037e-02,  1.08107266e-02, -5.68016541e-03,\n",
       "        1.71827868e-02, -1.03083579e-03, -9.38116723e-03, -6.43058493e-02,\n",
       "       -9.44213087e-02, -1.48139166e-01, -1.77540095e-01, -1.84563518e-01,\n",
       "       -1.82650411e-01, -1.88212565e-01, -2.35425463e-01, -2.79522794e-01,\n",
       "       -2.85063567e-01, -3.07887632e-01, -3.07821891e-01, -2.66180303e-01,\n",
       "       -1.77054054e-01, -8.60882832e-02, -3.15966194e-02, -2.62669151e-02,\n",
       "        1.74173218e-02,  3.75469432e-02, -2.62255475e-02, -1.03190781e-01,\n",
       "       -1.63476501e-01, -2.33821231e-01, -2.81015602e-01, -3.02950224e-01,\n",
       "       -3.20410393e-01, -3.69336445e-01, -4.10816616e-01, -3.58817115e-01,\n",
       "       -4.48149316e-01, -4.78877972e-01, -4.98630209e-01, -4.45060640e-01,\n",
       "       -3.25380294e-01, -1.70177310e-01, -7.95991144e-02, -5.44377063e-02,\n",
       "       -1.22308037e-02, -7.11854140e-03, -5.41599207e-02, -1.66555500e-01,\n",
       "       -2.66801038e-01, -3.86398301e-01, -4.62326008e-01, -5.06178563e-01,\n",
       "       -5.55383707e-01, -7.21618446e-01,  6.52856401e-01,  1.18284200e+00,\n",
       "       -5.06778375e-01, -6.43062179e-01, -6.59981093e-01, -6.50155167e-01,\n",
       "       -5.21651955e-01, -3.00417255e-01, -1.41679845e-01, -7.74618008e-02,\n",
       "       -1.22679638e-02, -1.57984850e-02, -8.74817592e-02, -2.41260996e-01,\n",
       "       -3.99751450e-01, -5.69213780e-01, -6.72662607e-01, -7.87718083e-01,\n",
       "       -9.21538160e-01,  1.05462262e-01,  1.68926954e+00,  7.81450466e-01,\n",
       "       -6.93764023e-01, -7.17069035e-01, -7.80213288e-01, -8.28941883e-01,\n",
       "       -7.14625964e-01, -4.36149983e-01, -1.93604665e-01, -9.95369733e-02,\n",
       "        1.08536714e-03, -2.28413441e-02, -1.37179141e-01, -3.46609820e-01,\n",
       "       -5.61219410e-01, -8.17201856e-01, -1.03787044e+00, -8.40945380e-01,\n",
       "        1.87220551e-01,  1.53471654e+00,  1.52374546e+00,  8.27426635e-01,\n",
       "       -7.15250390e-01, -7.69851848e-01, -8.53603059e-01, -1.03302300e+00,\n",
       "       -1.00194826e+00, -5.73292827e-01, -2.19980910e-01, -1.09808185e-01,\n",
       "        7.96890384e-03, -2.10211567e-02, -1.93056319e-01, -4.64069342e-01,\n",
       "       -7.69259608e-01, -8.01040301e-01, -2.81580519e-03,  1.09881622e+00,\n",
       "        1.56594870e+00,  4.58719005e-01, -9.35861435e-02,  1.40202931e+00,\n",
       "       -5.63097092e-01, -8.55875402e-01, -1.01408100e+00, -1.07185008e+00,\n",
       "       -2.43904296e-01, -4.56561471e-01, -2.77546581e-01, -1.06019656e-01,\n",
       "        3.21819849e-02, -3.54946395e-02, -2.43310397e-01, -5.81199647e-01,\n",
       "       -9.74419502e-01, -9.15880076e-01,  5.61866783e-01,  8.97197002e-01,\n",
       "       -2.01812560e-02, -9.97055647e-01, -8.58668332e-01,  9.09493467e-01,\n",
       "       -9.09665110e-02, -9.42098935e-01, -6.81145666e-01,  5.90882980e-01,\n",
       "        1.23633497e+00, -2.30242172e-01, -3.41139701e-01, -9.87186698e-02,\n",
       "        6.31889299e-02, -6.37360885e-02, -2.98273569e-01, -6.88954774e-01,\n",
       "       -1.09980262e+00, -1.28800362e+00, -1.01756159e+00, -7.83047563e-01,\n",
       "       -8.33020944e-01, -9.93246823e-01, -1.46977246e+00,  1.06925751e-01,\n",
       "        1.02310537e+00,  9.21049326e-01,  1.24522946e+00,  5.97450912e-01,\n",
       "       -3.71896348e-01, -6.10572634e-01, -2.29751030e-01, -1.05871807e-01,\n",
       "        6.11866568e-02, -9.70694709e-02, -3.25511445e-01, -7.32490116e-01,\n",
       "       -1.14429896e+00, -1.29082940e+00, -1.04491913e+00, -8.87335332e-01,\n",
       "       -9.81725237e-01, -1.23612580e+00, -5.03702649e-01,  8.28350894e-01,\n",
       "        1.44692578e+00,  7.41833138e-01, -3.13840879e-01, -1.04759732e+00,\n",
       "       -8.17973857e-01, -4.43524174e-01, -2.00783620e-01, -8.60125342e-02,\n",
       "        9.83701244e-02, -1.15599088e-01, -3.16099403e-01, -7.01112378e-01,\n",
       "       -1.04743681e+00, -1.28455609e+00, -1.22536483e+00, -9.51484272e-01,\n",
       "       -4.17137759e-01,  7.92916972e-01,  1.13276424e+00,  1.07381645e+00,\n",
       "        1.20272930e-01, -9.52126468e-01, -1.08769528e+00, -8.26274414e-01,\n",
       "       -5.66762182e-01, -3.34542825e-01, -1.60812142e-01, -7.48811159e-02,\n",
       "        1.01803070e-01, -9.56589294e-02, -2.57261446e-01, -6.40913196e-01,\n",
       "       -9.91029610e-01, -8.51629847e-01, -1.17577484e-01,  8.07082417e-01,\n",
       "        1.45815824e+00,  8.29052718e-01, -9.04504598e-02, -8.33655551e-01,\n",
       "       -9.07285322e-01, -8.78074320e-01, -7.64098535e-01, -5.82252013e-01,\n",
       "       -4.05302683e-01, -2.34823873e-01, -1.19846484e-01, -4.09526611e-02,\n",
       "        4.10394239e-02, -7.85866146e-02, -3.73608926e-01,  5.18573352e-01,\n",
       "        1.36194192e+00,  1.24797379e+00,  1.65416589e+00,  7.83124444e-01,\n",
       "       -1.50205459e-01, -6.22147559e-01, -7.70606857e-01, -6.95505165e-01,\n",
       "       -6.88722308e-01, -6.42863620e-01, -5.51939609e-01, -4.18363924e-01,\n",
       "       -2.80425138e-01, -1.61432558e-01, -8.81849801e-02, -2.42298198e-02,\n",
       "        7.65314239e-03, -6.50900646e-01,  1.58056431e+00,  4.19522620e+00,\n",
       "        2.07961368e+00,  2.51172670e-01, -4.08463105e-01, -5.72377431e-01,\n",
       "       -6.10387129e-01, -5.01846839e-01, -4.76363475e-01, -4.88953557e-01,\n",
       "       -4.79811646e-01, -4.38719902e-01, -3.71511958e-01, -2.68571876e-01,\n",
       "       -1.76493092e-01, -1.04929056e-01, -6.57673572e-02, -2.68643343e-02,\n",
       "        2.38297599e-03, -7.28718789e-01,  1.65541979e+00,  1.15889989e+00,\n",
       "       -6.04832331e-01, -4.57792887e-01, -4.30090284e-01, -3.69940372e-01,\n",
       "       -3.19658044e-01, -3.20846115e-01, -3.32489599e-01, -3.33317029e-01,\n",
       "       -3.20325306e-01, -2.94655960e-01, -2.37805601e-01, -1.71847080e-01,\n",
       "       -1.15146330e-01, -6.46985238e-02, -4.10792707e-02, -2.05432298e-02,\n",
       "        1.71482866e-02,  1.89023134e-01, -4.53651361e-01, -4.69114172e-01,\n",
       "       -1.87771211e-01, -2.38750376e-01, -2.16155970e-01, -1.67955952e-01,\n",
       "       -1.64369773e-01, -1.80669656e-01, -1.89430501e-01, -1.89984446e-01,\n",
       "       -1.80750302e-01, -1.65202788e-01, -1.36662355e-01, -9.39821144e-02,\n",
       "       -6.62527914e-02, -1.09111620e-02, -1.44505575e-02,  1.71884596e-02,\n",
       "       -1.79409008e-02,  7.97205130e-03,  7.24630491e-02, -2.87797661e-02,\n",
       "       -9.78442797e-02, -1.31945446e-01, -1.04818625e-01, -3.43215583e-02,\n",
       "       -1.23910372e-02, -1.66316011e-02, -2.40480051e-02, -4.25410777e-02,\n",
       "       -6.33032455e-02, -5.33571524e-02, -4.25805871e-02, -4.29269779e-02,\n",
       "       -3.28633457e-02,  5.21333756e-02,  3.62985070e-02,  1.08413768e-02,\n",
       "        0.00000000e+00, -2.99270868e-02,  9.82135032e-03,  1.70032177e-02,\n",
       "       -2.19795194e-02, -3.37153804e-02, -1.38544346e-02,  3.78831783e-03,\n",
       "       -1.55778281e-02,  1.24544817e-02,  2.41133746e-02, -5.45538326e-03,\n",
       "       -1.31418435e-02,  5.51032155e-03,  2.61153944e-04, -6.31622474e-03,\n",
       "       -6.11642143e-03, -1.38697481e-02,  1.40533751e-02,  0.00000000e+00])"
      ]
     },
     "execution_count": 18,
     "metadata": {},
     "output_type": "execute_result"
    }
   ],
   "source": [
    "neuralNetMutExc.layers[0].A_prev[:,0]"
   ]
  },
  {
   "cell_type": "code",
   "execution_count": 28,
   "metadata": {},
   "outputs": [
    {
     "name": "stdout",
     "output_type": "stream",
     "text": [
      "(400, 500)\n",
      "[[  0.           0.           0.        ]\n",
      " [106.07598252 106.06408952 106.06428884]\n",
      " [ 26.41202282  26.40906157  26.4091112 ]\n",
      " [ 28.89018345  28.88694434  28.88699863]\n",
      " [ 19.28156255  19.27940074  19.27943697]\n",
      " [  0.           0.           0.        ]\n",
      " [117.20628175 117.19314085 117.19336108]\n",
      " [  0.           0.           0.        ]\n",
      " [ 25.9423688   25.9394602   25.93950895]\n",
      " [ 64.61760952  64.61036474  64.61048616]\n",
      " [105.59460011 105.58276108 105.5829595 ]\n",
      " [  0.           0.           0.        ]\n",
      " [  0.           0.           0.        ]\n",
      " [  6.4992222    6.49849352   6.49850574]\n",
      " [ 70.95594413  70.94798871  70.94812204]\n",
      " [ 18.65318845  18.6510971   18.65113215]\n",
      " [ 62.34654075  62.3395506   62.33966775]\n",
      " [ 90.02595688  90.01586338  90.01603254]\n",
      " [147.68659292 147.67003464 147.67031215]\n",
      " [116.76051119 116.74742026 116.74763966]\n",
      " [128.10627367 128.09191069 128.09215141]\n",
      " [ 47.0902291   47.08494945  47.08503793]\n",
      " [  0.           0.           0.        ]\n",
      " [  9.49483557   9.49377103   9.49378887]\n",
      " [ 95.06824977  95.05759093  95.05776957]]\n",
      "[[196.9484661  196.93613207 196.93633878]\n",
      " [196.70774782 196.69543691 196.69564324]\n",
      " [196.96174201 196.94942137 196.94962786]\n",
      " [196.70089912 196.68860819 196.68881418]\n",
      " [196.91919716 196.906886   196.90709233]\n",
      " [196.64350651 196.63120743 196.63141356]\n",
      " [196.57638054 196.56409493 196.56430083]\n",
      " [197.03655554 197.0242409  197.02444728]\n",
      " [197.1044103  197.09209804 197.09230438]\n",
      " [196.90745427 196.89512087 196.89532758]]\n"
     ]
    }
   ],
   "source": [
    "print(neuralNetMutExc.layers[0].A_prev.shape)\n",
    "print(neuralNetMutExc.layers[1].A_prev[:,:3])\n",
    "print(neuralNetMutExc.outputL.A_prev[:,:3])"
   ]
  },
  {
   "cell_type": "code",
   "execution_count": null,
   "metadata": {},
   "outputs": [],
   "source": []
  }
 ],
 "metadata": {
  "kernelspec": {
   "display_name": "Python 3",
   "language": "python",
   "name": "python3"
  },
  "language_info": {
   "codemirror_mode": {
    "name": "ipython",
    "version": 3
   },
   "file_extension": ".py",
   "mimetype": "text/x-python",
   "name": "python",
   "nbconvert_exporter": "python",
   "pygments_lexer": "ipython3",
   "version": "3.6.4"
  }
 },
 "nbformat": 4,
 "nbformat_minor": 2
}
