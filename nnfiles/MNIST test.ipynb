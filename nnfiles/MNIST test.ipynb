{
 "cells": [
  {
   "cell_type": "code",
   "execution_count": 1,
   "metadata": {},
   "outputs": [],
   "source": [
    "from sklearn.preprocessing import StandardScaler, label_binarize\n",
    "from sklearn.model_selection import train_test_split\n",
    "from scipy.io import loadmat\n",
    "import numpy as np\n",
    "import neuralNet as nn\n",
    "import matplotlib.pyplot as plt\n",
    "\n",
    "%matplotlib inline "
   ]
  },
  {
   "cell_type": "code",
   "execution_count": 2,
   "metadata": {},
   "outputs": [],
   "source": [
    "all_data = loadmat(\"../ex3data1.mat\")\n",
    "X_all = all_data['X']\n",
    "y_all = all_data['y']"
   ]
  },
  {
   "cell_type": "code",
   "execution_count": 3,
   "metadata": {},
   "outputs": [
    {
     "name": "stderr",
     "output_type": "stream",
     "text": [
      "/Users/johnsnyder/.virtualenvs/neuralNetTut/lib/python3.6/site-packages/sklearn/model_selection/_split.py:2069: FutureWarning: From version 0.21, test_size will always complement train_size unless both are specified.\n",
      "  FutureWarning)\n"
     ]
    }
   ],
   "source": [
    "X_train, X_test, y_train, y_test = train_test_split(X_all, y_all, train_size = .9)\n",
    "y_classes = np.unique(y_train)\n",
    "classDict = dict(zip(range(len(y_classes)),y_classes))"
   ]
  },
  {
   "cell_type": "code",
   "execution_count": 4,
   "metadata": {
    "scrolled": true
   },
   "outputs": [
    {
     "name": "stdout",
     "output_type": "stream",
     "text": [
      "(4500, 400) (500, 400)\n",
      "{0: 1, 1: 2, 2: 3, 3: 4, 4: 5, 5: 6, 6: 7, 7: 8, 8: 9, 9: 10}\n",
      "[ 1  2  3  4  5  6  7  8  9 10]\n"
     ]
    }
   ],
   "source": [
    "print(X_train.shape,X_test.shape)\n",
    "print(classDict)\n",
    "print(y_classes)"
   ]
  },
  {
   "cell_type": "markdown",
   "metadata": {},
   "source": [
    "'10' indicates a zero digit in this particular data set.\n",
    "\n",
    "A randomly selected training label and input are displayed below"
   ]
  },
  {
   "cell_type": "code",
   "execution_count": 5,
   "metadata": {},
   "outputs": [
    {
     "name": "stdout",
     "output_type": "stream",
     "text": [
      "label:  [1]\n"
     ]
    },
    {
     "data": {
      "image/png": "[encoded data removed]",
      "text/plain": [
       "<Figure size 432x288 with 1 Axes>"
      ]
     },
     "metadata": {
      "needs_background": "light"
     },
     "output_type": "display_data"
    },
    {
     "name": "stdout",
     "output_type": "stream",
     "text": [
      "X:\n",
      " [[ 0.00000000e+00  0.00000000e+00  0.00000000e+00  0.00000000e+00\n",
      "   0.00000000e+00  0.00000000e+00  0.00000000e+00  0.00000000e+00\n",
      "   0.00000000e+00  0.00000000e+00  0.00000000e+00  0.00000000e+00\n",
      "   0.00000000e+00  0.00000000e+00  0.00000000e+00  0.00000000e+00\n",
      "   0.00000000e+00  0.00000000e+00  0.00000000e+00  0.00000000e+00]\n",
      " [ 0.00000000e+00  0.00000000e+00  0.00000000e+00  0.00000000e+00\n",
      "   0.00000000e+00  0.00000000e+00  0.00000000e+00  0.00000000e+00\n",
      "   0.00000000e+00  0.00000000e+00  1.91855125e-18  4.30623638e-04\n",
      "  -5.11257864e-03 -2.17815564e-02 -1.12789352e-02  1.64079521e-04\n",
      "   5.00408497e-05  0.00000000e+00  0.00000000e+00  0.00000000e+00]\n",
      " [ 0.00000000e+00  0.00000000e+00  0.00000000e+00  0.00000000e+00\n",
      "   0.00000000e+00  0.00000000e+00  0.00000000e+00  0.00000000e+00\n",
      "   0.00000000e+00  0.00000000e+00  2.18881073e-18 -2.96920223e-03\n",
      "   1.79197419e-02  1.50273379e-01  7.79155966e-02 -1.12938731e-03\n",
      "  -3.45786963e-04  0.00000000e+00  0.00000000e+00  0.00000000e+00]\n",
      " [ 0.00000000e+00  0.00000000e+00  0.00000000e+00  0.00000000e+00\n",
      "   0.00000000e+00  0.00000000e+00  0.00000000e+00  0.00000000e+00\n",
      "   0.00000000e+00  0.00000000e+00  1.27655229e-06 -2.10802185e-02\n",
      "   3.96003968e-01  1.06506742e+00  5.45428513e-01 -8.61773216e-03\n",
      "  -2.39496528e-03  0.00000000e+00  0.00000000e+00  0.00000000e+00]\n",
      " [ 0.00000000e+00  0.00000000e+00  0.00000000e+00  0.00000000e+00\n",
      "   0.00000000e+00  0.00000000e+00  0.00000000e+00  0.00000000e+00\n",
      "   0.00000000e+00  0.00000000e+00  1.01060389e-03 -3.21048645e-02\n",
      "   6.38613081e-01  1.03716008e+00  6.44315887e-01  3.84650735e-03\n",
      "  -3.34834559e-03  0.00000000e+00  0.00000000e+00  0.00000000e+00]\n",
      " [ 0.00000000e+00  0.00000000e+00  0.00000000e+00  0.00000000e+00\n",
      "   0.00000000e+00  0.00000000e+00  0.00000000e+00  0.00000000e+00\n",
      "   0.00000000e+00  2.45098039e-04 -9.83838848e-03  6.38106788e-02\n",
      "   7.35592431e-01  1.03068171e+00  3.71257200e-01 -2.42652335e-02\n",
      "  -9.56137663e-04  0.00000000e+00  0.00000000e+00  0.00000000e+00]\n",
      " [ 0.00000000e+00  0.00000000e+00  0.00000000e+00  0.00000000e+00\n",
      "   0.00000000e+00  0.00000000e+00  0.00000000e+00  0.00000000e+00\n",
      "   0.00000000e+00 -2.01899510e-03 -1.14351852e-02  3.38190189e-01\n",
      "   9.83817058e-01  8.53659620e-01  1.58759344e-01 -1.95653254e-02\n",
      "  -1.74428105e-04  0.00000000e+00  0.00000000e+00  0.00000000e+00]\n",
      " [ 0.00000000e+00  0.00000000e+00  0.00000000e+00  0.00000000e+00\n",
      "   0.00000000e+00  0.00000000e+00  0.00000000e+00  0.00000000e+00\n",
      "   3.50984469e-04 -2.47739595e-02  1.00449635e-01  7.83141841e-01\n",
      "   1.03797427e+00  5.15282245e-01 -3.51907281e-02 -1.74717704e-03\n",
      "   2.44588480e-05  0.00000000e+00  0.00000000e+00  0.00000000e+00]\n",
      " [ 0.00000000e+00  0.00000000e+00  0.00000000e+00  0.00000000e+00\n",
      "   0.00000000e+00  0.00000000e+00  0.00000000e+00  8.92747952e-05\n",
      "  -3.24080882e-03 -6.33937568e-03  4.95387510e-01  1.05864166e+00\n",
      "   7.90203025e-01  1.12118566e-01 -1.48396650e-02  3.18627451e-04\n",
      "   0.00000000e+00  0.00000000e+00  0.00000000e+00  0.00000000e+00]\n",
      " [ 0.00000000e+00  0.00000000e+00  0.00000000e+00  0.00000000e+00\n",
      "   0.00000000e+00  0.00000000e+00  1.93014706e-04 -1.15333659e-03\n",
      "  -2.73578261e-02  2.11210069e-01  9.60534450e-01  9.80178905e-01\n",
      "   3.25715421e-01 -3.21760961e-02  1.14889706e-03  0.00000000e+00\n",
      "   0.00000000e+00  0.00000000e+00  0.00000000e+00  0.00000000e+00]\n",
      " [ 0.00000000e+00  0.00000000e+00  0.00000000e+00  0.00000000e+00\n",
      "   0.00000000e+00  1.97458590e-31 -1.23689406e-03 -1.12385859e-02\n",
      "   2.08753489e-01  8.21451678e-01  1.01556327e+00  4.84482350e-01\n",
      "  -4.18873059e-03 -4.63133170e-03  0.00000000e+00  0.00000000e+00\n",
      "   0.00000000e+00  0.00000000e+00  0.00000000e+00  0.00000000e+00]\n",
      " [ 0.00000000e+00  0.00000000e+00  0.00000000e+00  0.00000000e+00\n",
      "   0.00000000e+00  1.99993192e-04 -9.60869417e-03  7.01191010e-03\n",
      "   6.14887017e-01  1.00157840e+00  6.95419067e-01  1.53904514e-01\n",
      "  -2.49819616e-02  3.35477941e-04  0.00000000e+00  0.00000000e+00\n",
      "   0.00000000e+00  0.00000000e+00  0.00000000e+00  0.00000000e+00]\n",
      " [ 0.00000000e+00  0.00000000e+00  0.00000000e+00  0.00000000e+00\n",
      "   3.08181485e-04 -2.32608740e-03 -2.75714572e-02  4.60759219e-01\n",
      "   9.86483225e-01  8.37266044e-01  7.74588616e-02  9.41991766e-03\n",
      "  -1.77202065e-03  0.00000000e+00  0.00000000e+00  0.00000000e+00\n",
      "   0.00000000e+00  0.00000000e+00  0.00000000e+00  0.00000000e+00]\n",
      " [ 0.00000000e+00  0.00000000e+00  0.00000000e+00  3.41605392e-05\n",
      "  -1.90553513e-03 -1.52551403e-02  2.78906829e-01  9.21958491e-01\n",
      "   9.30440104e-01  3.33451763e-01 -2.05188930e-02 -4.15339052e-03\n",
      "   3.42423872e-04  0.00000000e+00  0.00000000e+00  0.00000000e+00\n",
      "   0.00000000e+00  0.00000000e+00  0.00000000e+00  0.00000000e+00]\n",
      " [ 0.00000000e+00  0.00000000e+00  0.00000000e+00  3.89348448e-04\n",
      "  -3.34098584e-02  1.89870609e-01  8.93801777e-01  9.90628185e-01\n",
      "   4.14240928e-01 -2.36756706e-02 -4.48519199e-03  1.30208333e-04\n",
      "   0.00000000e+00  0.00000000e+00  0.00000000e+00  0.00000000e+00\n",
      "   0.00000000e+00  0.00000000e+00  0.00000000e+00  0.00000000e+00]\n",
      " [ 0.00000000e+00  0.00000000e+00  1.07007460e-03 -1.90823632e-02\n",
      "   8.75956904e-02  8.69511097e-01  1.02082942e+00  4.61371020e-01\n",
      "   8.37893178e-03 -7.85316245e-03  5.34926471e-04  6.12745098e-04\n",
      "  -1.95021096e-02 -3.12542552e-02 -1.10613256e-02  7.95717593e-04\n",
      "   2.55310458e-05  0.00000000e+00  0.00000000e+00  0.00000000e+00]\n",
      " [ 0.00000000e+00  0.00000000e+00 -1.21988504e-02  8.34840686e-02\n",
      "   5.80474112e-01  1.03449617e+00  8.65568883e-01  2.08160915e-01\n",
      "  -1.90203738e-02  3.38286356e-04 -1.55169314e-16 -6.98529412e-03\n",
      "   2.22324049e-01  3.56298509e-01  1.26099112e-01 -9.07118056e-03\n",
      "  -2.91053922e-04  0.00000000e+00  0.00000000e+00  0.00000000e+00]\n",
      " [ 0.00000000e+00  0.00000000e+00 -3.97240167e-03  3.15118625e-02\n",
      "   1.24394185e-01  1.47515796e-01  1.00374526e-01  2.43373165e-02\n",
      "  -1.39619257e-03  0.00000000e+00 -5.05289287e-17 -2.27467286e-03\n",
      "   7.23970205e-02  1.16024112e-01  4.10625841e-02 -2.95391545e-03\n",
      "  -9.47780360e-05  0.00000000e+00  0.00000000e+00  0.00000000e+00]\n",
      " [ 0.00000000e+00  0.00000000e+00  4.28029840e-04 -3.27920752e-03\n",
      "  -1.51220384e-02 -2.11914488e-02 -1.59957108e-02 -3.99052899e-03\n",
      "   2.51906318e-04  0.00000000e+00  5.44453734e-18  2.45098039e-04\n",
      "  -7.80084383e-03 -1.25017021e-02 -4.42453023e-03  3.18287037e-04\n",
      "   1.02124183e-05  0.00000000e+00  0.00000000e+00  0.00000000e+00]\n",
      " [ 0.00000000e+00  0.00000000e+00  0.00000000e+00  0.00000000e+00\n",
      "   0.00000000e+00  0.00000000e+00  0.00000000e+00  0.00000000e+00\n",
      "   0.00000000e+00  0.00000000e+00  0.00000000e+00  0.00000000e+00\n",
      "   0.00000000e+00  0.00000000e+00  0.00000000e+00  0.00000000e+00\n",
      "   0.00000000e+00  0.00000000e+00  0.00000000e+00  0.00000000e+00]]\n"
     ]
    }
   ],
   "source": [
    "rand_obs = np.random.randint(X_train.shape[0])\n",
    "rand_img = X_train[rand_obs].reshape((20,20)).transpose()\n",
    "plt.imshow(rand_img)\n",
    "print(\"label: \",y_train[rand_obs])\n",
    "plt.show()\n",
    "print(\"X:\\n\",rand_img)"
   ]
  },
  {
   "cell_type": "code",
   "execution_count": 6,
   "metadata": {},
   "outputs": [],
   "source": [
    "scaler = StandardScaler()\n",
    "scaler.fit(X_train)\n",
    "\n",
    "X_train_scaled = scaler.transform(X_train).transpose()\n",
    "y_train_onehot = label_binarize(y_train,y_classes).transpose()\n",
    "\n",
    "X_test_scaled = scaler.transform(X_test).transpose()\n",
    "y_test_onehot = label_binarize(y_test,y_classes).transpose()"
   ]
  },
  {
   "cell_type": "code",
   "execution_count": 7,
   "metadata": {},
   "outputs": [],
   "source": [
    "neuralNetMutExc = nn.fullyConnectClassHyper(X_train_scaled,y_train_onehot,classDict,[30,30,30], alpha =.05, p_keep = 1.0, regular = {\"lambd\":0.0, \"N\":2})"
   ]
  },
  {
   "cell_type": "code",
   "execution_count": 8,
   "metadata": {},
   "outputs": [],
   "source": [
    "neuralNetMutExc.fit(100,X_test_scaled,y_test_onehot)"
   ]
  },
  {
   "cell_type": "code",
   "execution_count": 9,
   "metadata": {},
   "outputs": [
    {
     "data": {
      "image/png": "[encoded data removed]",
      "text/plain": [
       "<Figure size 432x288 with 1 Axes>"
      ]
     },
     "metadata": {
      "needs_background": "light"
     },
     "output_type": "display_data"
    }
   ],
   "source": [
    "plt.plot(neuralNetMutExc.train_loss_vec)\n",
    "plt.plot(neuralNetMutExc.test_loss_vec)\n",
    "plt.show()"
   ]
  },
  {
   "cell_type": "markdown",
   "metadata": {},
   "source": [
    "#### Updating hyperparameters\n",
    "\n",
    "Graph above indicates overfit. \n",
    "Implement regularization and decrease learning rate."
   ]
  },
  {
   "cell_type": "code",
   "execution_count": 10,
   "metadata": {},
   "outputs": [],
   "source": [
    "#update hyperparameters\n",
    "hyperDict = {\"alpha\":.01,\"regular\":{\"lambd\":0.03, \"N\":2}}\n",
    "neuralNetMutExc.updateHyperparam(**hyperDict)"
   ]
  },
  {
   "cell_type": "markdown",
   "metadata": {},
   "source": [
    "Attempt adding non-existent hyperparameters and train further"
   ]
  },
  {
   "cell_type": "code",
   "execution_count": 11,
   "metadata": {},
   "outputs": [
    {
     "name": "stdout",
     "output_type": "stream",
     "text": [
      "The following are not valid hyperparameter names\n",
      " ['fakeParam2', 'fakeParam']\n",
      "These are the hyperparameters and their values:\n",
      "gradNorm :  inf\n",
      "regular :  {'lambd': 0.03, 'N': 2}\n",
      "gradClip :  inf\n",
      "p_keep :  1.0\n",
      "alpha :  0.01\n"
     ]
    }
   ],
   "source": [
    "neuralNetMutExc.updateHyperparam(fakeParam = 2,fakeParam2 = 5)"
   ]
  },
  {
   "cell_type": "code",
   "execution_count": 12,
   "metadata": {},
   "outputs": [],
   "source": [
    "neuralNetMutExc.fit(100,X_test_scaled,y_test_onehot)"
   ]
  },
  {
   "cell_type": "code",
   "execution_count": 13,
   "metadata": {},
   "outputs": [
    {
     "data": {
      "image/png": "[encoded data removed]",
      "text/plain": [
       "<Figure size 432x288 with 1 Axes>"
      ]
     },
     "metadata": {
      "needs_background": "light"
     },
     "output_type": "display_data"
    }
   ],
   "source": [
    "plt.plot(neuralNetMutExc.train_loss_vec)\n",
    "plt.plot(neuralNetMutExc.test_loss_vec)\n",
    "plt.show()"
   ]
  },
  {
   "cell_type": "markdown",
   "metadata": {},
   "source": [
    "#### Evaluate model fit"
   ]
  },
  {
   "cell_type": "code",
   "execution_count": 14,
   "metadata": {},
   "outputs": [
    {
     "name": "stdout",
     "output_type": "stream",
     "text": [
      "(10, 500)\n",
      "500\n",
      "500\n"
     ]
    }
   ],
   "source": [
    "YHat, loss = neuralNetMutExc.predict(X_test_scaled,y_test_onehot)\n",
    "print(YHat.shape)\n",
    "max_ind = np.argmax(YHat,axis = 0)\n",
    "max_prob = np.amax(YHat,axis = 0)\n",
    "max_prob_class = [neuralNetMutExc.outputL.classVec[x] for x in max_ind]\n",
    "\n",
    "print(len(max_prob_class))\n",
    "print(len(y_test))"
   ]
  },
  {
   "cell_type": "code",
   "execution_count": 15,
   "metadata": {},
   "outputs": [
    {
     "name": "stdout",
     "output_type": "stream",
     "text": [
      "first 10 predicted probability vectors:\n",
      " [[6.59972050e-04 5.13404455e-04 2.88020443e-04 5.65709314e-03\n",
      "  5.31025180e-03 6.16901206e-03 1.02060304e-02 2.83580084e-03\n",
      "  9.16921728e-01 2.83073339e-03]\n",
      " [9.91327348e-01 2.84100534e-03 2.88020443e-04 5.91037989e-03\n",
      "  4.38710958e-03 6.16901206e-03 1.02060304e-02 9.74241096e-03\n",
      "  2.17636425e-02 4.37596563e-03]\n",
      " [3.01979576e-03 2.60029046e-03 2.88020443e-04 6.82566183e-01\n",
      "  6.57148928e-03 6.64601694e-03 5.36985653e-02 2.83580084e-03\n",
      "  7.58215126e-03 2.59197157e-03]\n",
      " [1.29276644e-04 5.13404455e-04 9.43006958e-01 5.65709314e-03\n",
      "  1.73538034e-01 2.33959710e-01 6.61848520e-02 8.84630976e-01\n",
      "  5.36848593e-03 2.18237125e-02]\n",
      " [1.29276644e-04 1.39429728e-02 3.46475985e-03 2.34666390e-01\n",
      "  2.48184637e-02 3.28314255e-01 3.83281537e-02 4.26036207e-03\n",
      "  2.50877754e-03 3.44981337e-02]\n",
      " [2.54023078e-04 5.99102924e-03 2.03525650e-03 1.24729615e-02\n",
      "  4.38710958e-03 5.78481138e-02 1.02060304e-02 6.07009160e-02\n",
      "  6.90242755e-03 9.00191481e-01]\n",
      " [2.12319231e-03 5.13404455e-04 2.88020443e-04 5.65709314e-03\n",
      "  3.15059376e-02 6.16901206e-03 3.89737144e-02 2.83580084e-03\n",
      "  2.13630465e-02 2.59197157e-03]\n",
      " [1.74399126e-03 9.62472795e-01 8.38293252e-04 3.45006351e-02\n",
      "  9.42347064e-03 3.83951142e-02 1.25741320e-01 4.82987236e-03\n",
      "  8.38144618e-03 6.87145208e-03]\n",
      " [1.29276644e-04 1.23632414e-03 4.91843845e-02 6.89347991e-03\n",
      "  7.32019717e-01 2.84800849e-01 6.24927079e-01 1.63041884e-02\n",
      "  6.69951743e-03 2.59197157e-03]\n",
      " [4.83847997e-04 9.37536971e-03 3.18265644e-04 6.01869170e-03\n",
      "  8.03841710e-03 3.15289056e-02 2.15282241e-02 1.10238718e-02\n",
      "  2.50877754e-03 2.16326074e-02]]\n",
      "predicted labels:\n",
      " [2, 8, 4, 3, 9, 5, 9, 4, 1, 6, 3, 6, 7, 6, 3, 6, 1, 3, 7, 6, 3, 1, 7, 1, 2, 1, 7, 4, 3, 9, 3, 3, 7, 6, 9, 5, 3, 5, 2, 1, 4, 8, 10, 6, 3, 6, 8, 4, 10, 7, 9, 1, 9, 8, 6, 6, 9, 3, 2, 5, 10, 6, 3, 1, 9, 7, 3, 3, 4, 6, 6, 5, 2, 4, 8, 10, 5, 6, 8, 8, 6, 1, 1, 8, 8, 7, 4, 8, 3, 8, 7, 5, 9, 5, 7, 2, 9, 3, 9, 7, 2, 6, 8, 9, 4, 1, 9, 1, 7, 9, 1, 2, 1, 8, 3, 4, 6, 9, 3, 6, 6, 5, 4, 1, 5, 4, 7, 10, 9, 6, 4, 1, 6, 6, 7, 8, 6, 9, 5, 7, 3, 9, 5, 5, 3, 9, 3, 10, 2, 8, 7, 6, 8, 1, 6, 10, 10, 5, 5, 8, 7, 3, 10, 1, 5, 7, 3, 3, 2, 8, 6, 4, 8, 7, 2, 7, 4, 5, 1, 6, 8, 3, 7, 5, 1, 6, 4, 4, 3, 4, 9, 4, 3, 3, 1, 2, 8, 3, 7, 5, 3, 3, 8, 7, 6, 10, 9, 9, 2, 5, 8, 3, 5, 6, 4, 3, 7, 10, 1, 10, 8, 6, 10, 5, 8, 9, 1, 7, 10, 5, 9, 1, 7, 5, 10, 6, 6, 2, 2, 9, 4, 3, 8, 9, 3, 10, 9, 1, 10, 6, 4, 6, 9, 7, 4, 9, 8, 7, 4, 10, 6, 4, 5, 5, 4, 8, 6, 2, 2, 6, 1, 4, 2, 1, 2, 9, 1, 1, 1, 9, 2, 7, 5, 2, 9, 3, 10, 3, 5, 5, 1, 9, 7, 8, 7, 8, 9, 5, 2, 7, 4, 10, 8, 5, 2, 2, 1, 6, 7, 9, 4, 10, 5, 7, 9, 5, 3, 5, 1, 9, 2, 6, 7, 4, 8, 6, 2, 5, 9, 9, 8, 3, 2, 5, 5, 10, 9, 7, 7, 5, 5, 2, 10, 9, 6, 8, 9, 6, 7, 3, 8, 8, 2, 4, 7, 1, 7, 10, 7, 5, 9, 10, 2, 7, 2, 2, 10, 3, 7, 9, 9, 3, 7, 1, 6, 3, 4, 2, 9, 7, 9, 9, 10, 1, 4, 6, 5, 3, 6, 6, 2, 10, 8, 9, 8, 2, 1, 7, 6, 6, 6, 4, 8, 10, 6, 5, 3, 10, 10, 6, 4, 1, 8, 6, 10, 10, 5, 10, 3, 9, 5, 7, 6, 8, 6, 6, 10, 3, 7, 8, 1, 1, 6, 1, 4, 9, 5, 3, 8, 7, 7, 3, 7, 7, 4, 9, 3, 5, 9, 2, 8, 6, 6, 8, 9, 1, 4, 5, 5, 9, 4, 5, 7, 7, 10, 3, 2, 10, 6, 1, 6, 10, 8, 10, 1, 5, 3, 2, 5, 6, 5, 2, 10, 2, 2, 3, 1, 3, 4, 8, 6, 1, 4, 10, 6, 7, 5, 8, 1, 4]\n",
      "actual labels:\n",
      " [[ 2  8  4  5  9  4  8  4  1  6  3  6  7  6  3  6  1  3  7  6  3  1  7  1\n",
      "   2  1  7  4  3  9  3  3  7  6  9  5  3  5  2  1  4  8 10  6  3  6  8  4\n",
      "  10  7  7  1  9  8  6  6  9  3  2  5 10  6  3  1  9  7  3  3  4  6  6  5\n",
      "   2  4  8 10  5  6  8  8  6  1  1  8  2  7  4  8  3  8  7  5  9  5  7  2\n",
      "   9  3  9  7  2  6  8  9  4  1  9  1  7  9  1  2  1  8  3  4  6  9  3  6\n",
      "   6  5  4  1  5  4  7 10  9  6  4  1  6  6  7  8  6  9  5  7  3  9  5  5\n",
      "   3  9  3 10  2  8  7  6  8  1  6 10 10  5  5  8  7  3 10  1  5  7  3  3\n",
      "   2  8  6  4  8  7  2  7  4  5  1  6  8  3  7  5  1  6  9  4  3  4  1  4\n",
      "   3  3  1  2  8  5  7  5  8  3  8  3  6 10  9  9  2  5  8  3  5  6  4  3\n",
      "   7 10  1 10  5  6 10  4  8  9  6  7 10  5  9  1  7  5 10  6  6  7  2  9\n",
      "   4  3  8  9  3 10  9  1 10  6  4  6  9  7  4  9  5  7  4 10  5  4  5  5\n",
      "   4  8  6  2  2  6  1  2  2  1  2  9  1  1  1  7  2  7  5  2  9  3 10  3\n",
      "   5  5  1  9  7  8  7  1  9  5  2  7  4 10  1  6  2  2  1  6  7  9  4 10\n",
      "   5  7  9  5  3  8  1  9  2  6  7  4  8  6  2  5  9  9  8  3  2  5  5 10\n",
      "   9  7  7  5  5  2 10  9  6  8  9  6  7  3  8  8  2  4  7  1  7 10  7  5\n",
      "   9  5  2  7  2  2 10  3  7  9  9  3  7  1  6  3  4  2  9  7  9  9  6  1\n",
      "   4  6  5  5  6  6  2 10  8  9  8  2  7  7  6  6  6  4  8 10  6  5  3 10\n",
      "  10  6  4  1  8  6 10 10  5 10  3  9  5  7  6  8  6  6 10  3  7  8  1  1\n",
      "   6  1  4  9  5  3  8  7  7  3  7  7  4  9  3  5  3  2  8  6  6  8  9  1\n",
      "   4  5  5  9  4  5  7  7 10  3  2 10  6  1  6 10  8 10  1  5  3  2  5  6\n",
      "   5  2 10  2  2  3  1  3  4  8  6  1  4 10  6  7  5  8  1  4]]\n"
     ]
    },
    {
     "data": {
      "text/plain": [
       "{1: 48, 2: 42, 3: 52, 4: 42, 5: 56, 6: 66, 7: 58, 8: 46, 9: 51, 10: 39}"
      ]
     },
     "execution_count": 15,
     "metadata": {},
     "output_type": "execute_result"
    }
   ],
   "source": [
    "print(\"first 10 predicted probability vectors:\\n\",YHat[:,:10])\n",
    "print(\"predicted labels:\\n\",max_prob_class)\n",
    "print(\"actual labels:\\n\",y_test.transpose())\n",
    "unique, counts = np.unique(y_test, return_counts = True)\n",
    "dict(zip(unique,counts))"
   ]
  },
  {
   "cell_type": "code",
   "execution_count": 16,
   "metadata": {},
   "outputs": [
    {
     "name": "stdout",
     "output_type": "stream",
     "text": [
      "accuracy: 0.946\n"
     ]
    }
   ],
   "source": [
    "print(\"accuracy:\",np.mean(max_prob_class==y_test.transpose()))"
   ]
  },
  {
   "cell_type": "code",
   "execution_count": null,
   "metadata": {},
   "outputs": [],
   "source": []
  }
 ],
 "metadata": {
  "kernelspec": {
   "display_name": "Python 3",
   "language": "python",
   "name": "python3"
  },
  "language_info": {
   "codemirror_mode": {
    "name": "ipython",
    "version": 3
   },
   "file_extension": ".py",
   "mimetype": "text/x-python",
   "name": "python",
   "nbconvert_exporter": "python",
   "pygments_lexer": "ipython3",
   "version": "3.6.4"
  }
 },
 "nbformat": 4,
 "nbformat_minor": 2
}
