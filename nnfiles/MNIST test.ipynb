{
 "cells": [
  {
   "cell_type": "code",
   "execution_count": 1,
   "metadata": {},
   "outputs": [],
   "source": [
    "from sklearn.preprocessing import StandardScaler, label_binarize\n",
    "from sklearn.model_selection import train_test_split\n",
    "from scipy.io import loadmat\n",
    "import numpy as np\n",
    "import neuralNet as nn\n",
    "import matplotlib.pyplot as plt\n",
    "import copy"
   ]
  },
  {
   "cell_type": "code",
   "execution_count": 2,
   "metadata": {},
   "outputs": [],
   "source": [
    "all_data = loadmat(\"../ex3data1.mat\")\n",
    "X_all = all_data['X']\n",
    "y_all = all_data['y']"
   ]
  },
  {
   "cell_type": "code",
   "execution_count": 3,
   "metadata": {},
   "outputs": [
    {
     "name": "stderr",
     "output_type": "stream",
     "text": [
      "/Users/johnsnyder/.virtualenvs/neuralNetTut/lib/python3.6/site-packages/sklearn/model_selection/_split.py:2069: FutureWarning: From version 0.21, test_size will always complement train_size unless both are specified.\n",
      "  FutureWarning)\n"
     ]
    }
   ],
   "source": [
    "X_train, X_test, y_train, y_test = train_test_split(X_all, y_all, train_size = .9)\n",
    "y_classes = np.unique(y_train)\n",
    "classDict = dict(zip(range(len(y_classes)),y_classes))"
   ]
  },
  {
   "cell_type": "code",
   "execution_count": 4,
   "metadata": {
    "scrolled": true
   },
   "outputs": [
    {
     "name": "stdout",
     "output_type": "stream",
     "text": [
      "(4500, 400) (500, 400)\n",
      "{0: 1, 1: 2, 2: 3, 3: 4, 4: 5, 5: 6, 6: 7, 7: 8, 8: 9, 9: 10}\n",
      "[ 1  2  3  4  5  6  7  8  9 10]\n"
     ]
    }
   ],
   "source": [
    "print(X_train.shape,X_test.shape)\n",
    "print(classDict)\n",
    "print(y_classes)"
   ]
  },
  {
   "cell_type": "code",
   "execution_count": 5,
   "metadata": {},
   "outputs": [],
   "source": [
    "scaler = StandardScaler()\n",
    "scaler.fit(X_train)\n",
    "\n",
    "X_train_scaled = scaler.transform(X_train).transpose()\n",
    "y_train_onehot = label_binarize(y_train,y_classes).transpose()\n",
    "\n",
    "X_test_scaled = scaler.transform(X_test).transpose()\n",
    "y_test_onehot = label_binarize(y_test,y_classes).transpose()"
   ]
  },
  {
   "cell_type": "code",
   "execution_count": 6,
   "metadata": {},
   "outputs": [
    {
     "name": "stdout",
     "output_type": "stream",
     "text": [
      "8.931442144758953e-05\n",
      "8.931442144758953e-05\n"
     ]
    }
   ],
   "source": [
    "print(scaler.mean_[25])\n",
    "print(np.mean(X_train,axis=0)[25])"
   ]
  },
  {
   "cell_type": "code",
   "execution_count": 7,
   "metadata": {},
   "outputs": [],
   "source": [
    "neuralNetMutExc = nn.fullyConnectClassHyper(X_train_scaled,y_train_onehot,classDict,[25,25,25], alpha =.05, p_keep = 1.0, regular = {\"lambd\":0.0, \"N\":2})"
   ]
  },
  {
   "cell_type": "code",
   "execution_count": 8,
   "metadata": {},
   "outputs": [
    {
     "data": {
      "text/plain": [
       "array([2.04556738e+00, 1.07435294e+00, 5.73041489e-01, 3.79665487e-01,\n",
       "       2.89401211e-01, 2.38992848e-01, 2.06795284e-01, 1.75942792e-01,\n",
       "       1.53316151e-01, 1.36900174e-01, 1.21950930e-01, 1.07086435e-01,\n",
       "       9.73746748e-02, 8.86976233e-02, 7.96034949e-02, 7.16018296e-02,\n",
       "       6.54270161e-02, 6.02318593e-02, 5.47990339e-02, 5.03699988e-02,\n",
       "       4.65353741e-02, 4.15063998e-02, 3.82445814e-02, 3.48121795e-02,\n",
       "       3.21137244e-02, 3.00834388e-02, 2.69557248e-02, 2.51053826e-02,\n",
       "       2.30927045e-02, 2.06970986e-02, 1.95191966e-02, 1.76507342e-02,\n",
       "       1.56815284e-02, 1.41981237e-02, 1.32610050e-02, 1.18918291e-02,\n",
       "       1.11320712e-02, 1.02326738e-02, 9.74291908e-03, 9.04073115e-03,\n",
       "       8.52522641e-03, 7.97308379e-03, 7.55912206e-03, 7.29742766e-03,\n",
       "       6.85384051e-03, 6.52115514e-03, 6.17160070e-03, 5.81617452e-03,\n",
       "       5.68709328e-03, 5.32996428e-03, 5.12884599e-03, 4.96724586e-03,\n",
       "       4.69954751e-03, 4.57182001e-03, 4.37676532e-03, 4.20484909e-03,\n",
       "       4.06322219e-03, 3.88438241e-03, 3.71992063e-03, 3.59118380e-03,\n",
       "       3.44006722e-03, 3.32184155e-03, 3.19570255e-03, 3.08424983e-03,\n",
       "       2.96355669e-03, 2.86884769e-03, 2.75481514e-03, 2.66193023e-03,\n",
       "       2.55182896e-03, 2.46154974e-03, 2.37727787e-03, 2.29729543e-03,\n",
       "       2.22455640e-03, 2.13008418e-03, 2.07238539e-03, 2.00556257e-03,\n",
       "       1.93767648e-03, 1.89382692e-03, 1.83541590e-03, 1.78953749e-03,\n",
       "       1.73479825e-03, 1.68376674e-03, 1.64793066e-03, 1.60799361e-03,\n",
       "       1.56365980e-03, 1.53039418e-03, 1.48856876e-03, 1.45539351e-03,\n",
       "       1.42379278e-03, 1.39396362e-03, 1.36311764e-03, 1.33489547e-03,\n",
       "       1.30626480e-03, 1.27954998e-03, 1.25279790e-03, 1.23125687e-03,\n",
       "       1.20235851e-03, 1.18180005e-03, 1.15473033e-03, 1.13715743e-03])"
      ]
     },
     "execution_count": 8,
     "metadata": {},
     "output_type": "execute_result"
    }
   ],
   "source": [
    "neuralNetMutExc.fit(100,X_test_scaled,y_test_onehot)"
   ]
  },
  {
   "cell_type": "code",
   "execution_count": 9,
   "metadata": {},
   "outputs": [
    {
     "name": "stdout",
     "output_type": "stream",
     "text": [
      "1.5608569869131252\n"
     ]
    },
    {
     "data": {
      "image/png": "[encoded data removed]",
      "text/plain": [
       "<Figure size 432x288 with 1 Axes>"
      ]
     },
     "metadata": {
      "needs_background": "light"
     },
     "output_type": "display_data"
    }
   ],
   "source": [
    "print(neuralNetMutExc.test_loss_vec[0])\n",
    "plt.plot(neuralNetMutExc.train_loss_vec)\n",
    "plt.plot(neuralNetMutExc.test_loss_vec)\n",
    "plt.show()"
   ]
  },
  {
   "cell_type": "code",
   "execution_count": 27,
   "metadata": {},
   "outputs": [],
   "source": [
    "#update hyperparameters\n",
    "hyperDict = {\"alpha\":.01,\"regular\":{\"lambd\":0.03, \"N\":2}}\n",
    "neuralNetMutExc.updateHyperparam(**hyperDict)"
   ]
  },
  {
   "cell_type": "code",
   "execution_count": 28,
   "metadata": {},
   "outputs": [
    {
     "name": "stdout",
     "output_type": "stream",
     "text": [
      "The following are not valid hyperparameter names\n",
      " ['fakeParam2', 'fakeParam']\n",
      "These are the hyperparameters and their values:\n",
      "regular :  {'lambd': 0.03, 'N': 2}\n",
      "alpha :  0.01\n",
      "gradNorm :  inf\n",
      "gradClip :  inf\n",
      "p_keep :  1.0\n"
     ]
    }
   ],
   "source": [
    "neuralNetMutExc.updateHyperparam(fakeParam = 2,fakeParam2 = 5)"
   ]
  },
  {
   "cell_type": "code",
   "execution_count": 29,
   "metadata": {},
   "outputs": [
    {
     "data": {
      "text/plain": [
       "array([0.19020777, 0.19316791, 0.19567823, 0.19794361, 0.19931796,\n",
       "       0.20131582, 0.20255703, 0.20361314, 0.2043147 , 0.20532181,\n",
       "       0.20629754, 0.20725178, 0.20775097, 0.20813625, 0.20846984,\n",
       "       0.20918027, 0.20953572, 0.20983252, 0.21019041, 0.21055523,\n",
       "       0.21065392, 0.21105803, 0.21117082, 0.21162714, 0.21194344,\n",
       "       0.21204672, 0.21215142, 0.21217825, 0.21222298, 0.21241528,\n",
       "       0.21280364, 0.2126283 , 0.21282424, 0.21313553, 0.21323124,\n",
       "       0.21346793, 0.2131372 , 0.21378161, 0.21355831, 0.21375314,\n",
       "       0.21375192, 0.21378374, 0.21343383, 0.21375703, 0.21377   ,\n",
       "       0.21403751, 0.21390534, 0.21413504, 0.21409132, 0.21423152,\n",
       "       0.21460662, 0.21427648, 0.2143443 , 0.21419884, 0.21433004,\n",
       "       0.21459723, 0.21423675, 0.21438855, 0.21466002, 0.21452895,\n",
       "       0.21468878, 0.21480304, 0.21462164, 0.21468751, 0.21480916,\n",
       "       0.21487897, 0.21465104, 0.21459874, 0.214736  , 0.21477563,\n",
       "       0.21481863, 0.21432597, 0.21507961, 0.21502957, 0.21478073,\n",
       "       0.21479883, 0.21478093, 0.21453602, 0.21475221, 0.21466948,\n",
       "       0.21473175, 0.21496568, 0.21456159, 0.21467749, 0.21436155,\n",
       "       0.21488625, 0.21420918, 0.21448755, 0.21460247, 0.21456589,\n",
       "       0.21458851, 0.21480697, 0.21440271, 0.21451571, 0.21487879,\n",
       "       0.2147199 , 0.21472522, 0.21437473, 0.21469999, 0.21465019])"
      ]
     },
     "execution_count": 29,
     "metadata": {},
     "output_type": "execute_result"
    }
   ],
   "source": [
    "neuralNetMutExc.fit(100,X_test_scaled,y_test_onehot)"
   ]
  },
  {
   "cell_type": "code",
   "execution_count": 30,
   "metadata": {},
   "outputs": [
    {
     "name": "stdout",
     "output_type": "stream",
     "text": [
      "2.0455673829488488\n"
     ]
    },
    {
     "data": {
      "image/png": "[encoded data removed]",
      "text/plain": [
       "<Figure size 432x288 with 1 Axes>"
      ]
     },
     "metadata": {
      "needs_background": "light"
     },
     "output_type": "display_data"
    }
   ],
   "source": [
    "print(neuralNetMutExc.train_loss_vec[0])\n",
    "plt.plot(neuralNetMutExc.train_loss_vec)\n",
    "plt.plot(neuralNetMutExc.test_loss_vec)\n",
    "plt.show()"
   ]
  },
  {
   "cell_type": "code",
   "execution_count": 31,
   "metadata": {},
   "outputs": [
    {
     "name": "stdout",
     "output_type": "stream",
     "text": [
      "(10, 500)\n",
      "500\n",
      "500\n"
     ]
    }
   ],
   "source": [
    "YHat, loss = neuralNetMutExc.predict(X_test_scaled,y_test_onehot)\n",
    "print(YHat.shape)\n",
    "max_ind = np.argmax(YHat,axis = 0)\n",
    "max_prob = np.amax(YHat,axis = 0)\n",
    "max_prob_class = [neuralNetMutExc.outputL.classVec[x] for x in max_ind]\n",
    "\n",
    "print(len(max_prob_class))\n",
    "print(len(y_test))"
   ]
  },
  {
   "cell_type": "code",
   "execution_count": 32,
   "metadata": {},
   "outputs": [
    {
     "name": "stdout",
     "output_type": "stream",
     "text": [
      "[[1.30417154e-04 8.96915518e-01 1.98442824e-02 1.56006551e-05\n",
      "  9.43092676e-01 7.84280279e-04 5.09964203e-04 8.58431870e-03\n",
      "  1.73817734e-02 8.91831471e-01 4.00778230e-02 1.09429727e-03\n",
      "  8.93381867e-01 7.00650015e-03 5.53533666e-03]\n",
      " [5.71105019e-04 1.57391892e-02 3.59550919e-03 9.93560702e-01\n",
      "  1.19041436e-02 7.84280279e-04 8.07357719e-04 1.99321188e-03\n",
      "  9.07896869e-01 1.69392121e-02 7.96452646e-01 1.28194900e-03\n",
      "  3.49581896e-02 8.68438986e-01 8.09234596e-04]\n",
      " [1.08350206e-03 2.45253218e-03 1.30784251e-02 3.00089853e-05\n",
      "  9.73870053e-03 7.84280279e-04 5.11862175e-03 1.47462052e-03\n",
      "  5.39361547e-02 8.23149678e-03 4.61045349e-02 4.80411108e-03\n",
      "  2.12419185e-02 4.73431786e-03 8.09234596e-04]\n",
      " [6.63295138e-05 6.25422790e-03 6.61757722e-03 8.95451530e-06\n",
      "  5.97851011e-03 3.23344291e-02 5.09964203e-04 2.56329252e-02\n",
      "  7.73654001e-04 7.46361396e-03 1.64569704e-03 3.83596429e-03\n",
      "  3.56394152e-03 5.13702851e-03 9.39263259e-01]\n",
      " [7.31060589e-05 3.57725881e-03 2.24601984e-02 8.95451530e-06\n",
      "  3.17877428e-03 2.47605096e-03 2.14299826e-03 7.02067507e-02\n",
      "  7.73654001e-04 5.88394317e-03 1.64569704e-03 3.10135245e-03\n",
      "  1.53674703e-03 3.58068038e-03 2.03366910e-03]\n",
      " [6.63295138e-05 3.40035137e-02 7.08582394e-03 6.63474301e-04\n",
      "  3.58895741e-03 7.84280279e-04 5.09964203e-04 8.43531273e-01\n",
      "  1.26386029e-03 1.67607026e-02 1.64569704e-03 1.09429727e-03\n",
      "  2.05047035e-03 9.26839101e-03 2.44784127e-03]\n",
      " [9.85251540e-01 1.22147043e-03 2.62861513e-03 3.28197520e-04\n",
      "  1.59902222e-02 2.14841137e-02 8.27739891e-01 1.47462052e-03\n",
      "  8.60507453e-03 2.62125768e-03 6.21680073e-03 5.42455243e-01\n",
      "  1.09490905e-02 2.31907712e-02 3.97971465e-03]\n",
      " [6.63295138e-05 3.73933493e-02 9.13825126e-01 1.02068380e-05\n",
      "  3.66552526e-03 2.55851441e-03 5.09964203e-04 3.87198068e-02\n",
      "  3.96254911e-03 4.63376849e-02 1.02897959e-01 1.09429727e-03\n",
      "  2.92442817e-02 5.62076511e-02 2.46502634e-03]\n",
      " [1.17191796e-02 1.22147043e-03 8.23582780e-03 8.95451530e-06\n",
      "  1.43124506e-03 9.35611596e-01 1.53950429e-01 1.47462052e-03\n",
      "  7.73654001e-04 1.96530889e-03 1.64569704e-03 4.32589921e-01\n",
      "  1.53674703e-03 5.09917411e-03 4.18474488e-02]\n",
      " [9.72161553e-04 1.22147043e-03 2.62861513e-03 5.36494618e-03\n",
      "  1.43124506e-03 2.39817423e-03 8.20084584e-03 6.90785263e-03\n",
      "  4.63275704e-03 1.96530889e-03 1.66744910e-03 8.64856729e-03\n",
      "  1.53674703e-03 1.73364999e-02 8.09234596e-04]]\n",
      "[7, 1, 8, 2, 1, 9, 7, 6, 2, 1, 2, 7, 1, 2, 4, 9, 5, 6, 4, 2, 9, 3, 8, 5, 2, 5, 9, 1, 6, 3, 8, 9, 4, 9, 4, 9, 1, 9, 7, 3, 10, 9, 5, 3, 8, 10, 1, 4, 9, 2, 4, 10, 10, 1, 3, 5, 7, 10, 9, 7, 9, 8, 5, 7, 3, 9, 1, 10, 8, 1, 9, 10, 4, 4, 5, 3, 8, 3, 1, 1, 10, 2, 6, 1, 1, 2, 7, 7, 2, 7, 6, 8, 1, 1, 8, 10, 6, 5, 5, 8, 7, 3, 8, 2, 5, 9, 8, 1, 3, 10, 4, 5, 7, 4, 5, 3, 3, 5, 10, 6, 4, 1, 4, 9, 8, 7, 7, 3, 1, 2, 4, 9, 2, 5, 5, 6, 4, 10, 9, 7, 9, 5, 1, 6, 2, 4, 2, 4, 4, 7, 9, 10, 3, 6, 8, 10, 2, 2, 10, 10, 5, 5, 10, 5, 5, 5, 10, 10, 6, 1, 3, 5, 10, 3, 10, 10, 7, 10, 9, 4, 10, 10, 7, 4, 1, 4, 8, 10, 4, 4, 8, 8, 1, 7, 4, 3, 9, 4, 8, 1, 5, 10, 3, 2, 7, 8, 8, 5, 1, 7, 6, 2, 7, 8, 1, 3, 9, 4, 10, 5, 10, 7, 8, 10, 4, 9, 4, 4, 2, 7, 3, 6, 2, 5, 4, 9, 4, 5, 4, 1, 2, 4, 1, 5, 4, 3, 10, 7, 4, 6, 2, 7, 3, 4, 1, 7, 6, 3, 7, 6, 3, 6, 10, 4, 9, 5, 9, 2, 8, 7, 3, 10, 4, 8, 6, 8, 6, 1, 9, 10, 10, 8, 10, 9, 8, 3, 1, 3, 10, 8, 9, 10, 5, 10, 8, 2, 1, 6, 10, 7, 3, 10, 2, 4, 10, 5, 6, 5, 8, 3, 9, 2, 2, 8, 1, 6, 2, 3, 4, 1, 4, 1, 8, 5, 6, 3, 9, 4, 1, 3, 6, 5, 7, 10, 4, 10, 10, 3, 7, 10, 10, 9, 3, 8, 8, 9, 10, 6, 4, 7, 2, 5, 4, 2, 2, 3, 3, 2, 5, 1, 5, 4, 4, 9, 9, 6, 4, 9, 8, 1, 2, 8, 8, 1, 7, 6, 5, 4, 10, 6, 1, 4, 5, 1, 2, 8, 10, 7, 10, 3, 5, 5, 7, 9, 2, 8, 8, 9, 8, 4, 1, 5, 7, 8, 3, 5, 8, 10, 3, 1, 4, 5, 2, 6, 2, 10, 4, 8, 3, 1, 5, 4, 3, 10, 3, 5, 3, 3, 5, 2, 1, 9, 4, 1, 9, 4, 9, 4, 1, 10, 9, 4, 1, 3, 3, 2, 9, 5, 3, 3, 6, 8, 8, 10, 8, 1, 8, 5, 6, 9, 2, 9, 9, 8, 10, 3, 7, 2, 4, 9, 1, 6, 4, 8, 5, 8, 10, 2, 8, 1, 6, 10, 9, 6, 1, 3, 1, 1, 8, 1, 7, 5, 8, 4, 6, 4, 7, 2, 1, 7]\n",
      "[[ 7  1  8  2  1  9  7  6  1  1  2  7  1  2  4  9  5  6  4  8  9  3  8  5\n",
      "   2  5  9  1  6  3  8  9  9  9  4  9  8  3  7  3 10  9  5  5  5 10  1  4\n",
      "   9  6  4 10 10  8  3  5  7 10  9  7  9  8  5  7  3  9  1 10  8  1  9 10\n",
      "   4  4  5  3  8  3  1  1 10  2  6  1  1  2  7  7  2  7  6  8  1  1  8 10\n",
      "   6  5  5  8  3  3  8  2  5  9  8  1  3 10  4  5  7  4  5  3  3  5 10  6\n",
      "   4  1  4  9  8  7  7  3  1  2  9  9  2  6  5  6  4 10  9  7  9  5  1  6\n",
      "   2  4  2  4  5  7  9 10  3  6  8 10  2  2 10 10  5  5 10  5  5  5 10 10\n",
      "   6  1  3  5 10  3 10 10  7 10  9  4 10 10  7  4  1  4  2 10  4  4  8  8\n",
      "   1  7  4  3  9  4  8  1  5 10  3  2  7  5  8  5  1  7  6  2  7  8  1  3\n",
      "   9  4 10  3 10  7  8 10  4  9  4  4  2  9  3  6  2  5  4  9  4  5  4  1\n",
      "   2  4  1  5  4  3 10  7  4  6  2  7  3  4  8  7  6  3  7  6  3  6 10  4\n",
      "   8  5  9  2  8  7  2 10  4  8  4  8  6  1  9 10 10  8 10  9  8  3  1  3\n",
      "  10  8  9 10  5 10  8  2  6  6 10  7  3 10  2  4 10  5  6  5  8  3  9  2\n",
      "   2  8  7  6  2  3  4  8  4  1  8  5  8  5  9  4  1  3  6  5  7 10  4 10\n",
      "  10  3  7 10 10  9  3  8  8  8 10  6  4  7  2  5  4  2  2  3  3  2  5  1\n",
      "   5  4  4  9  9  6  4  9  8  1  2  8  8  1  7  6  5  4 10  6  1  4  5  1\n",
      "   2  8 10  7 10  3  5  5  7  9  2  8  8  9  8  4  1  5  7  8  3  5  8 10\n",
      "   3  1  5  5  2  2  2 10  4  8  3  1  5  4  5  5  3  5  2  3  5  2  1  9\n",
      "   4  1  9  4  9  4  7 10  9  4  1  3  3  2  9  5  3  3  6  8  8 10  8  1\n",
      "   8  5  6  9  2  9  9  9 10  3  7  2  4  4  1  6  4  8  5  8 10  2  8  1\n",
      "   6 10  3  6  1  2  1  1  8  1  7  5  2  4 10  4  7  2  1  7]]\n"
     ]
    },
    {
     "data": {
      "text/plain": [
       "{1: 50, 2: 47, 3: 48, 4: 59, 5: 57, 6: 34, 7: 41, 8: 57, 9: 48, 10: 59}"
      ]
     },
     "execution_count": 32,
     "metadata": {},
     "output_type": "execute_result"
    }
   ],
   "source": [
    "print(YHat[:,:15])\n",
    "print(max_prob_class)\n",
    "print(y_test.transpose())\n",
    "unique, counts = np.unique(y_test, return_counts = True)\n",
    "dict(zip(unique,counts))"
   ]
  },
  {
   "cell_type": "code",
   "execution_count": 33,
   "metadata": {},
   "outputs": [
    {
     "name": "stdout",
     "output_type": "stream",
     "text": [
      "accuracy: 0.922\n"
     ]
    }
   ],
   "source": [
    "print(\"accuracy:\",np.mean(max_prob_class==y_test.transpose()))"
   ]
  }
 ],
 "metadata": {
  "kernelspec": {
   "display_name": "Python 3",
   "language": "python",
   "name": "python3"
  },
  "language_info": {
   "codemirror_mode": {
    "name": "ipython",
    "version": 3
   },
   "file_extension": ".py",
   "mimetype": "text/x-python",
   "name": "python",
   "nbconvert_exporter": "python",
   "pygments_lexer": "ipython3",
   "version": "3.6.4"
  }
 },
 "nbformat": 4,
 "nbformat_minor": 2
}
