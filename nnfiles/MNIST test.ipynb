{
 "cells": [
  {
   "cell_type": "code",
   "execution_count": 1,
   "metadata": {},
   "outputs": [],
   "source": [
    "from sklearn.preprocessing import StandardScaler, label_binarize\n",
    "from sklearn.model_selection import train_test_split\n",
    "from scipy.io import loadmat\n",
    "import numpy as np\n",
    "import neuralNet as nn\n",
    "import matplotlib.pyplot as plt\n",
    "import copy"
   ]
  },
  {
   "cell_type": "code",
   "execution_count": 2,
   "metadata": {},
   "outputs": [],
   "source": [
    "all_data = loadmat(\"../ex3data1.mat\")\n",
    "X_all = all_data['X']\n",
    "y_all = all_data['y']"
   ]
  },
  {
   "cell_type": "code",
   "execution_count": 3,
   "metadata": {},
   "outputs": [
    {
     "name": "stderr",
     "output_type": "stream",
     "text": [
      "/Users/johnsnyder/.virtualenvs/neuralNetTut/lib/python3.6/site-packages/sklearn/model_selection/_split.py:2069: FutureWarning: From version 0.21, test_size will always complement train_size unless both are specified.\n",
      "  FutureWarning)\n"
     ]
    }
   ],
   "source": [
    "X_train, X_test, y_train, y_test = train_test_split(X_all, y_all, train_size = .9)\n",
    "y_classes = np.unique(y_train)\n",
    "classDict = dict(zip(range(len(y_classes)),y_classes))"
   ]
  },
  {
   "cell_type": "code",
   "execution_count": 4,
   "metadata": {
    "scrolled": true
   },
   "outputs": [
    {
     "name": "stdout",
     "output_type": "stream",
     "text": [
      "(4500, 400) (500, 400)\n",
      "[ 1  2  3  4  5  6  7  8  9 10]\n"
     ]
    }
   ],
   "source": [
    "print(X_train.shape,X_test.shape)\n",
    "print(y_classes)"
   ]
  },
  {
   "cell_type": "code",
   "execution_count": 5,
   "metadata": {},
   "outputs": [],
   "source": [
    "scaler = StandardScaler()\n",
    "scaler.fit(X_train)\n",
    "\n",
    "X_train_scaled = scaler.transform(X_train).transpose()\n",
    "y_train_onehot = label_binarize(y_train,y_classes).transpose()\n",
    "\n",
    "X_test_scaled = scaler.transform(X_test).transpose()\n",
    "y_test_onehot = label_binarize(y_test,y_classes).transpose()"
   ]
  },
  {
   "cell_type": "code",
   "execution_count": 6,
   "metadata": {},
   "outputs": [
    {
     "name": "stdout",
     "output_type": "stream",
     "text": [
      "0.00022381488667997892\n",
      "0.00022381488667997892\n"
     ]
    }
   ],
   "source": [
    "print(scaler.mean_[25])\n",
    "print(np.mean(X_train,axis=0)[25])"
   ]
  },
  {
   "cell_type": "code",
   "execution_count": 7,
   "metadata": {},
   "outputs": [],
   "source": [
    "neuralNetMutExc = nn.fullyConnectClassHyper(X_train_scaled,y_train_onehot,classDict,[25,25,25], alpha =.05, p_keep = 0.5, regular = {\"lambd\":0.5, \"N\":2}, gradClip = 0.75, gradNorm = 0.5)"
   ]
  },
  {
   "cell_type": "code",
   "execution_count": 8,
   "metadata": {},
   "outputs": [
    {
     "data": {
      "text/plain": [
       "array([450.48228772,  28.90497325,  17.85687502,  19.1905109 ,\n",
       "        23.30401378,  28.36975826,  29.81402796,  30.16076948,\n",
       "        30.36333198,  30.63124603,  31.32443348,  32.95842993,\n",
       "        36.23019916,  42.03301911,  46.4585487 ,  47.51245973,\n",
       "        47.62150388,  47.70258824,  47.83413861,  47.872122  ,\n",
       "        47.96365895,  48.28837927,  48.98460946,  50.33023076,\n",
       "        52.9911976 ,  58.73972337,  63.90020103,  65.1292952 ,\n",
       "        65.43603021,  65.64298355,  65.6297336 ,  65.7359001 ,\n",
       "        65.76462691,  65.87260788,  65.86177496,  65.91632675,\n",
       "        65.98914779,  66.19503551,  65.91619271,  66.4093828 ,\n",
       "        66.11590866,  66.18007604,  66.44754724,  66.1428292 ,\n",
       "        66.53316586,  66.35937498,  66.49772432,  66.67016154,\n",
       "        66.71282121,  66.56772189,  66.74897028,  66.97809478,\n",
       "        66.6223101 ,  67.03427409,  67.25150791,  66.7340383 ,\n",
       "        67.00429724,  66.99681749,  67.19261385,  67.19695303,\n",
       "        67.32837309,  67.52012894,  67.62313961,  67.58450345,\n",
       "        67.62073343,  67.78757303,  68.05336084,  67.85055719,\n",
       "        67.88108173,  68.13572889,  68.10897816,  68.49176549,\n",
       "        68.04257524,  68.03704223,  68.52872779,  68.66189189,\n",
       "        68.83497189,  68.37868896,  69.14796803,  68.66292542,\n",
       "        69.23332018,  69.02312104,  69.10071258,  69.18806335,\n",
       "        69.01540107,  69.14035781,  69.56817689,  69.81268775,\n",
       "        69.54640966,  69.10951776,  69.38075111,  70.21598232,\n",
       "        70.53275034,  69.94784564,  70.67707266,  70.91577966,\n",
       "        70.3569465 ,  70.890115  ,  71.38720123,  70.89685442])"
      ]
     },
     "execution_count": 8,
     "metadata": {},
     "output_type": "execute_result"
    }
   ],
   "source": [
    "neuralNetMutExc.fit(100,X_test_scaled,y_test_onehot)"
   ]
  },
  {
   "cell_type": "code",
   "execution_count": 19,
   "metadata": {},
   "outputs": [
    {
     "name": "stdout",
     "output_type": "stream",
     "text": [
      "[450.4822877181625, 28.90497324893656, 17.85687501693093, 19.19051089627892, 23.30401378125119, 28.369758264699968, 29.81402796271457, 30.160769475579176, 30.36333197672697, 30.63124603264158, 31.324433479119534, 32.958429932180195, 36.230199158136585, 42.0330191146527, 46.458548703139385, 47.51245972863038, 47.62150388242523, 47.70258823608456, 47.83413860878369, 47.872122003290045, 47.963658949445275, 48.28837927225809, 48.984609457414486, 50.33023075835882, 52.9911976023628, 58.73972336632039, 63.90020103488046, 65.12929519789833, 65.43603020729125, 65.64298355337, 65.62973360298913, 65.73590010453518, 65.76462690827418, 65.87260788499077, 65.86177496238203, 65.91632675013942, 65.98914779296264, 66.19503551318707, 65.91619270986907, 66.40938280396269, 66.11590866194153, 66.18007604390831, 66.44754723569845, 66.1428291995394, 66.53316585801278, 66.35937498336958, 66.49772432183329, 66.67016154329181, 66.71282121260825, 66.56772189432884, 66.74897028135254, 66.97809478399626, 66.62231009608966, 67.03427409288315, 67.25150791285297, 66.73403829644873, 67.00429723541892, 66.996817488528, 67.1926138497999, 67.19695302947787, 67.32837308708989, 67.52012893740827, 67.62313960501572, 67.5845034494492, 67.62073342983766, 67.78757302807034, 68.05336083581153, 67.85055718514604, 67.88108172979953, 68.13572889300522, 68.10897816312101, 68.49176549284273, 68.04257524224722, 68.03704222575934, 68.52872779119609, 68.66189188757691, 68.83497188514913, 68.37868896360746, 69.14796802750114, 68.66292541939545, 69.23332018420074, 69.02312103533836, 69.10071258428184, 69.18806335426409, 69.01540107039213, 69.14035781344366, 69.56817688942454, 69.81268775383064, 69.54640966274751, 69.10951776010127, 69.38075111237534, 70.21598232237598, 70.53275034218588, 69.94784564359855, 70.67707266147393, 70.91577966000169, 70.35694649686667, 70.89011499509562, 71.38720122511299, 70.89685442048336]\n",
      "[0.8445401899131543, 0.25789478509678965, 0.255743739283938, 0.2909701299966473, 0.37458405051198235, 0.41468167653769267, 0.4218095566355604, 0.4259616598756596, 0.4276062698204209, 0.435350035373397, 0.4499480373058293, 0.4813244871904598, 0.5435570860402165, 0.6364729879995255, 0.6620648110864322, 0.6698616823576032, 0.6707979370288881, 0.6715942442977932, 0.6727481492004417, 0.672643942729714, 0.674124389354171, 0.6833044718707458, 0.6987169924060591, 0.7210825014966004, 0.7752054912142429, 0.8685482431395569, 0.9080483824163028, 0.9155642311463401, 0.919549798764692, 0.9223713465398733, 0.9278561751244007, 0.9220268861381394, 0.9264723204533925, 0.9199971670050632, 0.9238667461369254, 0.9242876783897896, 0.9225989497569264, 0.9154822592547375, 0.9287105246806997, 0.9200528213968132, 0.9225015996328773, 0.9214990460947612, 0.9349796250156042, 0.9345354907190389, 0.9280922151881515, 0.9257869110202632, 0.9389737996933246, 0.9215126455872594, 0.9285633923546756, 0.9221860388818381, 0.9226895958330741, 0.9292977762548895, 0.9283080575218403, 0.9373004710308713, 0.9214379021286859, 0.9416407859976481, 0.9296998635597179, 0.9315595041786974, 0.9342627115596279, 0.9387882066049218, 0.9167464811977375, 0.9461874905812798, 0.9265477170919655, 0.9431601786280456, 0.946566219306083, 0.928377873046022, 0.9254861768327041, 0.9344132624171133, 0.9421653410363476, 0.953565049576539, 0.937073529484574, 0.9376013308709868, 0.958882864079826, 0.9348858441904554, 0.931801531087438, 0.9769194161365854, 0.9544244591526311, 0.9579494749107579, 0.938875187190717, 0.9504421679314792, 0.9415046716630313, 0.9385050895392514, 0.9293273794216751, 1.0160059296234443, 0.9447036982811017, 0.927388372930829, 0.9783293769114397, 0.9570540840988768, 0.9568732925885688, 0.9682111872296711, 0.9893323607373046, 0.9967994281179732, 0.954760933081449, 0.9717851721758451, 0.9665037509302409, 0.9759313911905878, 1.037737885002873, 0.9799488996940231, 1.0121930503006518, 0.9472109660204598]\n"
     ]
    }
   ],
   "source": [
    "print(neuralNetMutExc.train_loss_vec)\n",
    "print(neuralNetMutExc.test_loss_vec)"
   ]
  },
  {
   "cell_type": "code",
   "execution_count": 18,
   "metadata": {},
   "outputs": [
    {
     "name": "stdout",
     "output_type": "stream",
     "text": [
      "0.8445401899131543\n"
     ]
    },
    {
     "data": {
      "image/png": "[encoded data removed]",
      "text/plain": [
       "<Figure size 432x288 with 1 Axes>"
      ]
     },
     "metadata": {
      "needs_background": "light"
     },
     "output_type": "display_data"
    }
   ],
   "source": [
    "print(neuralNetMutExc.test_loss_vec[0])\n",
    "plt.plot(neuralNetMutExc.train_loss_vec)\n",
    "plt.plot(neuralNetMutExc.test_loss_vec)\n",
    "plt.show()"
   ]
  },
  {
   "cell_type": "code",
   "execution_count": 10,
   "metadata": {},
   "outputs": [],
   "source": [
    "#update hyperparameters\n",
    "hyperDict = {\"alpha\":.01,\"regular\":{\"N\":2,\"lambd\":1}}\n",
    "neuralNetMutExc.updateHyperparam(**hyperDict)"
   ]
  },
  {
   "cell_type": "code",
   "execution_count": 11,
   "metadata": {},
   "outputs": [
    {
     "name": "stdout",
     "output_type": "stream",
     "text": [
      "The following are not valid hyperparameter names\n",
      " ['fakeParam2', 'fakeParam']\n",
      "These are the hyperparameters and their values:\n",
      "\n",
      "alpha :  0.01\n",
      "gradClip :  0.75\n",
      "regular :  {'N': 2, 'lambd': 1}\n",
      "p_keep :  0.5\n",
      "gradNorm :  0.5\n"
     ]
    }
   ],
   "source": [
    "neuralNetMutExc.updateHyperparam(fakeParam = 2,fakeParam2 = 5)"
   ]
  },
  {
   "cell_type": "code",
   "execution_count": 12,
   "metadata": {},
   "outputs": [
    {
     "data": {
      "text/plain": [
       "array([91.72783244, 61.49232423, 50.16899443, 45.42603758, 43.17852374,\n",
       "       42.04491339, 41.57957864, 41.43947673, 41.19144034, 41.32136734,\n",
       "       41.33718782, 41.08970984, 41.1373441 , 41.2484654 , 41.01737648,\n",
       "       41.1488523 , 41.1082114 , 41.09576007, 41.16865955, 41.12852726,\n",
       "       41.18508507, 41.04301877, 41.03857158, 41.19580387, 41.09662933,\n",
       "       41.1337141 , 41.19678943, 41.23328815, 41.03371546, 41.11511452,\n",
       "       41.24838007, 41.16753548, 41.18211926, 41.06124875, 41.01658481,\n",
       "       41.20427345, 41.18058259, 41.26481669, 41.27134408, 41.12832684,\n",
       "       41.21765726, 41.16170903, 41.16032597, 41.23601537, 41.2199876 ,\n",
       "       41.25882357, 41.19255808, 41.08604859, 41.15473096, 41.14965483])"
      ]
     },
     "execution_count": 12,
     "metadata": {},
     "output_type": "execute_result"
    }
   ],
   "source": [
    "neuralNetMutExc.fit(50)"
   ]
  },
  {
   "cell_type": "code",
   "execution_count": 13,
   "metadata": {},
   "outputs": [
    {
     "name": "stdout",
     "output_type": "stream",
     "text": [
      "435.66697767009845\n"
     ]
    },
    {
     "data": {
      "image/png": "[encoded data removed]",
      "text/plain": [
       "<Figure size 432x288 with 1 Axes>"
      ]
     },
     "metadata": {
      "needs_background": "light"
     },
     "output_type": "display_data"
    }
   ],
   "source": [
    "print(neuralNetMutExc.loss_vec[0])\n",
    "plt.plot(neuralNetMutExc.loss_vec)\n",
    "plt.show()"
   ]
  },
  {
   "cell_type": "code",
   "execution_count": null,
   "metadata": {},
   "outputs": [],
   "source": []
  },
  {
   "cell_type": "code",
   "execution_count": 111,
   "metadata": {},
   "outputs": [
    {
     "ename": "IndexError",
     "evalue": "list index out of range",
     "output_type": "error",
     "traceback": [
      "\u001b[0;31m---------------------------------------------------------------------------\u001b[0m",
      "\u001b[0;31mIndexError\u001b[0m                                Traceback (most recent call last)",
      "\u001b[0;32m<ipython-input-111-04d92a4e8155>\u001b[0m in \u001b[0;36m<module>\u001b[0;34m\u001b[0m\n\u001b[0;32m----> 1\u001b[0;31m \u001b[0mprint\u001b[0m\u001b[0;34m(\u001b[0m\u001b[0mneuralNetMutExc\u001b[0m\u001b[0;34m.\u001b[0m\u001b[0mloss_vec\u001b[0m\u001b[0;34m[\u001b[0m\u001b[0;36m0\u001b[0m\u001b[0;34m]\u001b[0m\u001b[0;34m)\u001b[0m\u001b[0;34m\u001b[0m\u001b[0m\n\u001b[0m\u001b[1;32m      2\u001b[0m \u001b[0mplt\u001b[0m\u001b[0;34m.\u001b[0m\u001b[0mplot\u001b[0m\u001b[0;34m(\u001b[0m\u001b[0mneuralNetMutExc\u001b[0m\u001b[0;34m.\u001b[0m\u001b[0mloss_vec\u001b[0m\u001b[0;34m)\u001b[0m\u001b[0;34m\u001b[0m\u001b[0m\n\u001b[1;32m      3\u001b[0m \u001b[0mplt\u001b[0m\u001b[0;34m.\u001b[0m\u001b[0mshow\u001b[0m\u001b[0;34m(\u001b[0m\u001b[0;34m)\u001b[0m\u001b[0;34m\u001b[0m\u001b[0m\n",
      "\u001b[0;31mIndexError\u001b[0m: list index out of range"
     ]
    }
   ],
   "source": [
    "print(neuralNetMutExc.loss_vec[0])\n",
    "plt.plot(neuralNetMutExc.loss_vec)\n",
    "plt.show()"
   ]
  },
  {
   "cell_type": "code",
   "execution_count": 14,
   "metadata": {},
   "outputs": [],
   "source": [
    "neuralNetMutExc.updateAlpha(.05)\n",
    "lossVector = neuralNetMutExc.fit(500)"
   ]
  },
  {
   "cell_type": "code",
   "execution_count": 15,
   "metadata": {},
   "outputs": [],
   "source": [
    "front,back = 0,4"
   ]
  },
  {
   "cell_type": "code",
   "execution_count": 16,
   "metadata": {},
   "outputs": [
    {
     "name": "stdout",
     "output_type": "stream",
     "text": [
      "[[9]\n",
      " [6]\n",
      " [4]\n",
      " [8]]\n",
      "[[0 0 0 0]\n",
      " [0 0 0 0]\n",
      " [0 0 0 0]\n",
      " [0 0 1 0]\n",
      " [0 0 0 0]\n",
      " [0 1 0 0]\n",
      " [0 0 0 0]\n",
      " [0 0 0 1]\n",
      " [1 0 0 0]\n",
      " [0 0 0 0]]\n",
      "(400, 4)\n"
     ]
    }
   ],
   "source": [
    "print(y_train[front:back])\n",
    "print(y_train_onehot[:,front:back])\n",
    "print(X_train_scaled[:,front:back].shape)\n"
   ]
  },
  {
   "cell_type": "code",
   "execution_count": 17,
   "metadata": {},
   "outputs": [
    {
     "data": {
      "text/plain": [
       "(array([[0.1       , 0.09963187, 0.10060632, 0.1       ],\n",
       "        [0.1       , 0.09963187, 0.09993263, 0.1       ],\n",
       "        [0.1       , 0.09963187, 0.09993263, 0.1       ],\n",
       "        [0.1       , 0.09963187, 0.09993263, 0.1       ],\n",
       "        [0.1       , 0.09963187, 0.09993263, 0.1       ],\n",
       "        [0.1       , 0.09963187, 0.09993263, 0.1       ],\n",
       "        [0.1       , 0.09963187, 0.09993263, 0.1       ],\n",
       "        [0.1       , 0.09963187, 0.09993263, 0.1       ],\n",
       "        [0.1       , 0.09963187, 0.09993263, 0.1       ],\n",
       "        [0.1       , 0.1033132 , 0.09993263, 0.1       ]]),\n",
       " 0.23036756038214373)"
      ]
     },
     "execution_count": 17,
     "metadata": {},
     "output_type": "execute_result"
    }
   ],
   "source": [
    "neuralNetMutExc.predict(X_train_scaled[:,front:back],y_train_onehot[:,front:back])"
   ]
  },
  {
   "cell_type": "code",
   "execution_count": 18,
   "metadata": {},
   "outputs": [
    {
     "name": "stdout",
     "output_type": "stream",
     "text": [
      "incoming activations:\n",
      " [[0.         0.         0.00671886 0.        ]\n",
      " [0.         0.         0.         0.        ]\n",
      " [0.         0.         0.         0.        ]\n",
      " [0.         0.         0.         0.        ]\n",
      " [0.         0.         0.         0.        ]\n",
      " [0.         0.         0.         0.        ]\n",
      " [0.         0.         0.         0.        ]\n",
      " [0.         0.         0.         0.        ]\n",
      " [0.         0.         0.         0.        ]\n",
      " [0.         0.03628305 0.         0.        ]]\n",
      "Y_hat:\n",
      " [[0.1        0.09963187 0.10060632 0.1       ]\n",
      " [0.1        0.09963187 0.09993263 0.1       ]\n",
      " [0.1        0.09963187 0.09993263 0.1       ]\n",
      " [0.1        0.09963187 0.09993263 0.1       ]\n",
      " [0.1        0.09963187 0.09993263 0.1       ]\n",
      " [0.1        0.09963187 0.09993263 0.1       ]\n",
      " [0.1        0.09963187 0.09993263 0.1       ]\n",
      " [0.1        0.09963187 0.09993263 0.1       ]\n",
      " [0.1        0.09963187 0.09993263 0.1       ]\n",
      " [0.1        0.1033132  0.09993263 0.1       ]]\n",
      "dY_hat:\n",
      " [[ 0.          0.          0.          0.        ]\n",
      " [ 0.          0.          0.          0.        ]\n",
      " [ 0.          0.          0.          0.        ]\n",
      " [ 0.          0.         10.00674149  0.        ]\n",
      " [ 0.          0.          0.          0.        ]\n",
      " [ 0.         10.03694931  0.          0.        ]\n",
      " [ 0.          0.          0.          0.        ]\n",
      " [ 0.          0.          0.         10.        ]\n",
      " [10.          0.          0.          0.        ]\n",
      " [ 0.          0.          0.          0.        ]]\n",
      "softmax delta:\n",
      " [[-0.01       -0.00992651 -0.01005385 -0.01      ]\n",
      " [-0.01       -0.00992651 -0.00998653 -0.01      ]\n",
      " [-0.01       -0.00992651 -0.00998653 -0.01      ]\n",
      " [-0.01       -0.00992651  0.0899461  -0.01      ]\n",
      " [-0.01       -0.00992651 -0.00998653 -0.01      ]\n",
      " [-0.01        0.08970536 -0.00998653 -0.01      ]\n",
      " [-0.01       -0.00992651 -0.00998653 -0.01      ]\n",
      " [-0.01       -0.00992651 -0.00998653  0.09      ]\n",
      " [ 0.09       -0.00992651 -0.00998653 -0.01      ]\n",
      " [-0.01       -0.01029329 -0.00998653 -0.01      ]]\n",
      "incoming activation gradients:\n",
      " [[-0.         -0.         -0.         -0.        ]\n",
      " [-0.         -0.         -0.         -0.        ]\n",
      " [-0.         -0.         -0.         -0.        ]\n",
      " [-0.         -0.          0.90006737 -0.        ]\n",
      " [-0.         -0.         -0.         -0.        ]\n",
      " [-0.          0.90036813 -0.         -0.        ]\n",
      " [-0.         -0.         -0.         -0.        ]\n",
      " [-0.         -0.         -0.          0.9       ]\n",
      " [ 0.9        -0.         -0.         -0.        ]\n",
      " [-0.         -0.         -0.         -0.        ]]\n"
     ]
    }
   ],
   "source": [
    "print(\"incoming activations:\\n\",neuralNetMutExc.layers[-1].A_prev)\n",
    "print(\"Y_hat:\\n\",neuralNetMutExc.layers[-1].y_hat)\n",
    "print(\"dY_hat:\\n\",np.divide(y_train_onehot[:,front:back],neuralNetMutExc.layers[-1].y_hat))\n",
    "print(\"softmax delta:\\n\",neuralNetMutExc.layers[-1].softmax_delta(neuralNetMutExc.layers[-1].A_prev,y_train_onehot[:,front:back]))\n",
    "print(\"incoming activation gradients:\\n\",neuralNetMutExc.layers[-1].backprop(y_train_onehot[:,front:back]))"
   ]
  },
  {
   "cell_type": "code",
   "execution_count": null,
   "metadata": {},
   "outputs": [],
   "source": [
    "X_test_scaled = scaler.transform(X_test).transpose()\n"
   ]
  }
 ],
 "metadata": {
  "kernelspec": {
   "display_name": "Python 3",
   "language": "python",
   "name": "python3"
  },
  "language_info": {
   "codemirror_mode": {
    "name": "ipython",
    "version": 3
   },
   "file_extension": ".py",
   "mimetype": "text/x-python",
   "name": "python",
   "nbconvert_exporter": "python",
   "pygments_lexer": "ipython3",
   "version": "3.6.4"
  }
 },
 "nbformat": 4,
 "nbformat_minor": 2
}
